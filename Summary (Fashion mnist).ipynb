{
 "cells": [
  {
   "cell_type": "code",
   "execution_count": 4,
   "metadata": {},
   "outputs": [],
   "source": [
    "#importing a standard plotting python package\n",
    "import matplotlib.pyplot as plt\n",
    "#this makes the plots appear here instead of opening in a new window\n",
    "%matplotlib inline\n",
    "\n",
    "#keras were kind enough to wrap fashion_mnist for us, so we don't need to download the images ourselves\n",
    "from keras.datasets import fashion_mnist\n",
    "\n",
    "#importing numpy since we will need to for arithmetic operations\n",
    "import numpy as np"
   ]
  },
  {
   "cell_type": "code",
   "execution_count": 5,
   "metadata": {
    "collapsed": true
   },
   "outputs": [],
   "source": [
    "#Load the training and testing data, X is images, y are labels\n",
    "(X_train, y_train), (X_test, y_test) = fashion_mnist.load_data()"
   ]
  },
  {
   "cell_type": "code",
   "execution_count": 3,
   "metadata": {},
   "outputs": [
    {
     "data": {
      "text/plain": [
       "Text(0.5,1,'sample of class number 3')"
      ]
     },
     "execution_count": 3,
     "metadata": {},
     "output_type": "execute_result"
    },
    {
     "data": {
      "image/png": "[encoded data removed]",
      "text/plain": [
       "<matplotlib.figure.Figure at 0x181bd05b00>"
      ]
     },
     "metadata": {},
     "output_type": "display_data"
    },
    {
     "data": {
      "image/png": "[encoded data removed]",
      "text/plain": [
       "<matplotlib.figure.Figure at 0x1827642780>"
      ]
     },
     "metadata": {},
     "output_type": "display_data"
    },
    {
     "data": {
      "image/png": "[encoded data removed]",
      "text/plain": [
       "<matplotlib.figure.Figure at 0x18276880b8>"
      ]
     },
     "metadata": {},
     "output_type": "display_data"
    },
    {
     "data": {
      "image/png": "[encoded data removed]",
      "text/plain": [
       "<matplotlib.figure.Figure at 0x1827614cc0>"
      ]
     },
     "metadata": {},
     "output_type": "display_data"
    }
   ],
   "source": [
    "#lets look at some images\n",
    "plt.figure()\n",
    "plt.imshow(X_train[0], cmap='gray')\n",
    "plt.title('sample of class number {}'.format(y_train[0]))\n",
    "\n",
    "plt.figure()\n",
    "plt.imshow(X_train[1], cmap='gray')\n",
    "plt.title('sample of class number {}'.format(y_train[1]))\n",
    "\n",
    "plt.figure()\n",
    "plt.imshow(X_train[2], cmap='gray')\n",
    "plt.title('sample of class number {}'.format(y_train[2]))\n",
    "\n",
    "plt.figure()\n",
    "plt.imshow(X_train[3], cmap='gray')\n",
    "plt.title('sample of class number {}'.format(y_train[3]))\n"
   ]
  },
  {
   "cell_type": "markdown",
   "metadata": {},
   "source": [
    "### Normalizing the images and converting to float"
   ]
  },
  {
   "cell_type": "code",
   "execution_count": 4,
   "metadata": {
    "collapsed": true
   },
   "outputs": [],
   "source": [
    "X_train = X_train.astype(np.float)\n",
    "X_test = X_test.astype(np.float)\n",
    "\n",
    "X_train /= 255.0\n",
    "X_test /= 255.0"
   ]
  },
  {
   "cell_type": "markdown",
   "metadata": {
    "collapsed": true
   },
   "source": [
    "### taking part of the train set for validation\n",
    "### Splitting X_train into X_train and X_val"
   ]
  },
  {
   "cell_type": "code",
   "execution_count": 5,
   "metadata": {},
   "outputs": [
    {
     "name": "stdout",
     "output_type": "stream",
     "text": [
      "there are 60000 training samples, we will take 50K for train and 10K for validation\n"
     ]
    }
   ],
   "source": [
    "X_train_orig = X_train\n",
    "y_train_orig = y_train\n",
    "\n",
    "print('there are {} training samples, we will take 50K for train and 10K for validation'.format(X_train.shape[0]))\n",
    "X_train = X_train_orig[:50000]\n",
    "y_train = y_train_orig[:50000]\n",
    "\n",
    "X_val = X_train_orig[50000:]\n",
    "y_val = y_train_orig[50000:]"
   ]
  },
  {
   "cell_type": "markdown",
   "metadata": {},
   "source": [
    "### let's try classification with KNN\n",
    "\n",
    "# Learnings:\n",
    "## 1. reshape: if black and white images, 3 dimensions, colored, 4 dimensions\n",
    "\n"
   ]
  },
  {
   "cell_type": "code",
   "execution_count": null,
   "metadata": {
    "collapsed": true
   },
   "outputs": [],
   "source": [
    "#Importing the NN class from sklearn  \n",
    "from sklearn.neighbors import NearestNeighbors\n",
    "\n",
    "#KNeighborsClassifier wants us to roll each image into one long vector \n",
    "X_train_rolled = X_train.reshape(-1,28*28)\n",
    "X_val_rolled = X_val.reshape(-1,28*28)\n",
    "\n",
    "#initiating a new KNN classifier \n",
    "max_K = 10\n",
    "neigh = NearestNeighbors(n_neighbors=max_K)\n",
    "#\"training\" the classifier \n",
    "neigh.fit(X_train_rolled,y_train)"
   ]
  },
  {
   "cell_type": "code",
   "execution_count": null,
   "metadata": {
    "collapsed": true
   },
   "outputs": [],
   "source": [
    "# getting the closest neigherst neigbors. Here we get the distance between each sample in the validtion set to\n",
    "# the five closest neighbors and also the neighbors indices in the validation set \n",
    "distances, indices = neigh.kneighbors(X_val_rolled)"
   ]
  },
  {
   "cell_type": "code",
   "execution_count": null,
   "metadata": {
    "collapsed": true
   },
   "outputs": [],
   "source": [
    "indices"
   ]
  },
  {
   "cell_type": "code",
   "execution_count": 9,
   "metadata": {
    "collapsed": true
   },
   "outputs": [],
   "source": [
    "#For each validation sample, we know the indices of it's 5 nn in the training set, let's see what are the labels \n",
    "#of those 5 nn\n",
    "#I'm doing this with 2 loops, not the most elegant code - use list comprehension instead\n",
    "y_val_pred = []\n",
    "for row_ind in range(indices.shape[0]):\n",
    "    cur_sample_row = []\n",
    "    for col_ind in range(indices.shape[1]):\n",
    "        cur_sample_row.append(y_train[indices[row_ind,col_ind]])\n",
    "        \n",
    "    y_val_pred.append(cur_sample_row)"
   ]
  },
  {
   "cell_type": "code",
   "execution_count": 10,
   "metadata": {
    "collapsed": true
   },
   "outputs": [],
   "source": [
    "#converting this to a numpy matrix\n",
    "y_val_pred = np.array(y_val_pred)"
   ]
  },
  {
   "cell_type": "code",
   "execution_count": 11,
   "metadata": {},
   "outputs": [
    {
     "data": {
      "text/plain": [
       "array([[9, 9, 9, ..., 9, 9, 7],\n",
       "       [2, 2, 2, ..., 2, 2, 2],\n",
       "       [1, 1, 1, ..., 1, 1, 1],\n",
       "       ..., \n",
       "       [3, 3, 3, ..., 3, 3, 3],\n",
       "       [0, 0, 0, ..., 6, 0, 0],\n",
       "       [5, 5, 5, ..., 5, 5, 5]], dtype=uint8)"
      ]
     },
     "execution_count": 11,
     "metadata": {},
     "output_type": "execute_result"
    }
   ],
   "source": [
    "#let's look at the predictions - class labels of the 10 nearest neighbours, to do voting\n",
    "y_val_pred"
   ]
  },
  {
   "cell_type": "code",
   "execution_count": 12,
   "metadata": {},
   "outputs": [
    {
     "name": "stdout",
     "output_type": "stream",
     "text": [
      "with k = 1 our acc on the validtion is 0.8458\n",
      "with k = 2 our acc on the validtion is 0.8458\n",
      "with k = 3 our acc on the validtion is 0.8529\n",
      "with k = 4 our acc on the validtion is 0.8548\n",
      "with k = 5 our acc on the validtion is 0.8548\n",
      "with k = 6 our acc on the validtion is 0.8554\n",
      "with k = 7 our acc on the validtion is 0.8546\n",
      "with k = 8 our acc on the validtion is 0.8538\n",
      "with k = 9 our acc on the validtion is 0.8519\n",
      "with k = 10 our acc on the validtion is 0.8509\n"
     ]
    }
   ],
   "source": [
    "#the number of neighbors is a hyper param. we'll loop over K=1,2,3,4,5\n",
    "#we need to most common value in each prediction vector, for that we will use the counter class\n",
    "from collections import Counter\n",
    "\n",
    "for k in range(max_K):\n",
    "    y_val_pred_for_k = y_val_pred[:,:k+1]\n",
    "    \n",
    "    final_prediction_vec = []\n",
    "    for sample_ind in range(y_val_pred_for_k.shape[0]):\n",
    "        final_prediction_vec.append(Counter(y_val_pred_for_k[sample_ind]).most_common()[0][0])\n",
    "    \n",
    "    final_prediction_vec = np.array(final_prediction_vec)\n",
    "\n",
    "    #we have a final prediction for our validation set for this k, let's see what is the accuracy\n",
    "    cur_acc = np.sum(final_prediction_vec==y_val)/float(len(y_val))\n",
    "    print ('with k = {} our acc on the validtion is {}'.format(k+1, cur_acc))\n"
   ]
  },
  {
   "cell_type": "markdown",
   "metadata": {},
   "source": [
    "### Our best k is 7, so let's try that on our test set\n"
   ]
  },
  {
   "cell_type": "code",
   "execution_count": 13,
   "metadata": {
    "collapsed": true
   },
   "outputs": [],
   "source": [
    "X_test_rolled = X_test.reshape(-1,28*28)\n",
    "distances, indices = neigh.kneighbors(X_test_rolled)"
   ]
  },
  {
   "cell_type": "code",
   "execution_count": 14,
   "metadata": {
    "collapsed": true
   },
   "outputs": [],
   "source": [
    "y_test_pred = []\n",
    "for row_ind in range(indices.shape[0]):\n",
    "    cur_sample_row = []\n",
    "    for col_ind in range(indices.shape[1]):\n",
    "        cur_sample_row.append(y_train[indices[row_ind,col_ind]])\n",
    "        \n",
    "    y_test_pred.append(cur_sample_row)\n",
    "\n",
    "#converting this to a numpy matrix\n",
    "y_test_pred = np.array(y_test_pred)\n"
   ]
  },
  {
   "cell_type": "code",
   "execution_count": 15,
   "metadata": {
    "scrolled": true
   },
   "outputs": [
    {
     "name": "stdout",
     "output_type": "stream",
     "text": [
      "with k = 10 our acc on the test is 0.8496\n"
     ]
    }
   ],
   "source": [
    "y_test_pred_for_k = y_test_pred[:,:7+1]\n",
    "\n",
    "\n",
    "final_prediction_vec = []\n",
    "for sample_ind in range(y_test_pred_for_k.shape[0]):\n",
    "    final_prediction_vec.append(Counter(y_test_pred_for_k[sample_ind]).most_common()[0][0])\n",
    "\n",
    "final_prediction_vec = np.array(final_prediction_vec)\n",
    "\n",
    "#we have a final prediction for our validation set for this k, let's see what is the accuracy\n",
    "cur_acc = np.sum(final_prediction_vec==y_test)/float(len(y_test))\n",
    "print ('with k = {} our acc on the test is {}'.format(k+1, cur_acc))"
   ]
  },
  {
   "cell_type": "markdown",
   "metadata": {},
   "source": [
    "# Let's try Linear classification \n",
    "linearSVC"
   ]
  },
  {
   "cell_type": "code",
   "execution_count": 16,
   "metadata": {},
   "outputs": [
    {
     "name": "stdout",
     "output_type": "stream",
     "text": [
      "acc of LinearSVC with C = 0.0001 is 0.8083\n",
      "acc of LinearSVC with C = 0.0003 is 0.8271\n",
      "acc of LinearSVC with C = 0.001 is 0.8417\n",
      "acc of LinearSVC with C = 0.003 is 0.8484\n",
      "acc of LinearSVC with C = 0.01 is 0.8528\n",
      "acc of LinearSVC with C = 0.03 is 0.852\n",
      "acc of LinearSVC with C = 0.1 is 0.8507\n",
      "acc of LinearSVC with C = 0.3 is 0.8489\n",
      "acc of LinearSVC with C = 1.0 is 0.8474\n"
     ]
    }
   ],
   "source": [
    "#LinearSVC is one example of a linear model\n",
    "from sklearn.svm import LinearSVC\n",
    "\n",
    "#One of the hyperparameters of LR is C, how well to fit the training data or how much regularization do we want\n",
    "# larger C, more prone to overfitting\n",
    "# best practice values of C, increasing in log scale\n",
    "for cur_C in [0.0001,0.0003, 0.001, 0.003, 0.01, 0.03,0.1,0.3,1.0]:\n",
    "    log_reg_clf = LinearSVC(C=cur_C)\n",
    "    log_reg_clf.fit(X_train_rolled,y_train) #this takes care of all the SGD and all that \n",
    "    cur_acc = log_reg_clf.score(X_val_rolled,y_val)\n",
    "    print ('acc of LinearSVC with C = {} is {}'.format(cur_C, cur_acc))\n"
   ]
  },
  {
   "cell_type": "code",
   "execution_count": 17,
   "metadata": {},
   "outputs": [
    {
     "name": "stdout",
     "output_type": "stream",
     "text": [
      " logistic regression with C=0.01 reached 0.8405 acc\n"
     ]
    }
   ],
   "source": [
    "#The best cur is 0.01 so let's try that on the test set\n",
    "log_reg_clf = LinearSVC(C=0.01)\n",
    "log_reg_clf.fit(X_train_rolled,y_train) #this takes care of all the SGD and all that \n",
    "test_acc = log_reg_clf.score(X_test_rolled,y_test)\n",
    "print(' logistic regression with C={} reached {} acc'.format(0.01,test_acc))"
   ]
  },
  {
   "cell_type": "markdown",
   "metadata": {},
   "source": [
    "# Let's try regular fully connected NN "
   ]
  },
  {
   "cell_type": "code",
   "execution_count": 18,
   "metadata": {
    "collapsed": true
   },
   "outputs": [],
   "source": [
    "from keras.models import Sequential\n",
    "from keras.layers.core import Dense, Dropout, Activation\n",
    "\n",
    "#Keras wants one-hot vector\n",
    "from keras.utils import np_utils\n",
    "Y_train = np_utils.to_categorical(y_train,10)\n",
    "Y_val = np_utils.to_categorical(y_val,10)\n",
    "Y_test = np_utils.to_categorical(y_test,10)"
   ]
  },
  {
   "cell_type": "code",
   "execution_count": 19,
   "metadata": {
    "scrolled": true
   },
   "outputs": [
    {
     "name": "stderr",
     "output_type": "stream",
     "text": [
      "/Users/Gabrielle/anaconda3/lib/python3.6/site-packages/keras/models.py:939: UserWarning: The `nb_epoch` argument in `fit` has been renamed `epochs`.\n",
      "  warnings.warn('The `nb_epoch` argument in `fit` '\n"
     ]
    },
    {
     "name": "stdout",
     "output_type": "stream",
     "text": [
      "Train on 50000 samples, validate on 10000 samples\n",
      "Epoch 1/1000\n",
      "50000/50000 [==============================] - 3s 53us/step - loss: 0.8614 - acc: 0.7269 - val_loss: 0.6551 - val_acc: 0.7847\n",
      "Epoch 2/1000\n",
      "50000/50000 [==============================] - 2s 45us/step - loss: 0.6109 - acc: 0.8009 - val_loss: 0.5816 - val_acc: 0.8042\n",
      "Epoch 3/1000\n",
      "50000/50000 [==============================] - 2s 45us/step - loss: 0.5569 - acc: 0.8177 - val_loss: 0.5452 - val_acc: 0.8149\n",
      "Epoch 4/1000\n",
      "50000/50000 [==============================] - 2s 44us/step - loss: 0.5281 - acc: 0.8252 - val_loss: 0.5237 - val_acc: 0.8209\n",
      "Epoch 5/1000\n",
      "50000/50000 [==============================] - 2s 44us/step - loss: 0.5094 - acc: 0.8310 - val_loss: 0.5095 - val_acc: 0.8245\n",
      "Epoch 6/1000\n",
      "50000/50000 [==============================] - 2s 46us/step - loss: 0.4956 - acc: 0.8342 - val_loss: 0.4968 - val_acc: 0.8276\n",
      "Epoch 7/1000\n",
      "50000/50000 [==============================] - 2s 44us/step - loss: 0.4850 - acc: 0.8388 - val_loss: 0.4929 - val_acc: 0.8276\n",
      "Epoch 8/1000\n",
      "50000/50000 [==============================] - 2s 47us/step - loss: 0.4763 - acc: 0.8397 - val_loss: 0.4849 - val_acc: 0.8322\n",
      "Epoch 9/1000\n",
      "50000/50000 [==============================] - 2s 47us/step - loss: 0.4698 - acc: 0.8416 - val_loss: 0.4799 - val_acc: 0.8319\n",
      "Epoch 10/1000\n",
      "50000/50000 [==============================] - 2s 45us/step - loss: 0.4633 - acc: 0.8446 - val_loss: 0.4733 - val_acc: 0.8377\n",
      "Epoch 11/1000\n",
      "50000/50000 [==============================] - 2s 43us/step - loss: 0.4585 - acc: 0.8454 - val_loss: 0.4699 - val_acc: 0.8355\n",
      "Epoch 12/1000\n",
      "50000/50000 [==============================] - 2s 45us/step - loss: 0.4538 - acc: 0.8478 - val_loss: 0.4622 - val_acc: 0.8403\n",
      "Epoch 13/1000\n",
      "50000/50000 [==============================] - 2s 45us/step - loss: 0.4499 - acc: 0.8473 - val_loss: 0.4625 - val_acc: 0.8394\n",
      "Epoch 14/1000\n",
      "50000/50000 [==============================] - 2s 44us/step - loss: 0.4466 - acc: 0.8494 - val_loss: 0.4573 - val_acc: 0.8406\n",
      "Epoch 15/1000\n",
      "50000/50000 [==============================] - 2s 43us/step - loss: 0.4433 - acc: 0.8501 - val_loss: 0.4555 - val_acc: 0.8455\n",
      "Epoch 16/1000\n",
      "50000/50000 [==============================] - 2s 43us/step - loss: 0.4406 - acc: 0.8510 - val_loss: 0.4562 - val_acc: 0.8411\n",
      "Epoch 17/1000\n",
      "50000/50000 [==============================] - 2s 43us/step - loss: 0.4377 - acc: 0.8516 - val_loss: 0.4519 - val_acc: 0.8417\n",
      "Epoch 18/1000\n",
      "50000/50000 [==============================] - 2s 48us/step - loss: 0.4353 - acc: 0.8534 - val_loss: 0.4476 - val_acc: 0.8430\n",
      "Epoch 19/1000\n",
      "50000/50000 [==============================] - 2s 46us/step - loss: 0.4330 - acc: 0.8529 - val_loss: 0.4549 - val_acc: 0.8389\n",
      "Epoch 20/1000\n",
      "50000/50000 [==============================] - 2s 45us/step - loss: 0.4312 - acc: 0.8532 - val_loss: 0.4474 - val_acc: 0.8448\n",
      "Epoch 21/1000\n",
      "50000/50000 [==============================] - 2s 49us/step - loss: 0.4296 - acc: 0.8537 - val_loss: 0.4423 - val_acc: 0.8477\n",
      "Epoch 22/1000\n",
      "50000/50000 [==============================] - 2s 45us/step - loss: 0.4273 - acc: 0.8550 - val_loss: 0.4418 - val_acc: 0.8454\n",
      "Epoch 23/1000\n",
      "50000/50000 [==============================] - 2s 43us/step - loss: 0.4257 - acc: 0.8555 - val_loss: 0.4433 - val_acc: 0.8450\n",
      "Epoch 24/1000\n",
      "50000/50000 [==============================] - 2s 45us/step - loss: 0.4240 - acc: 0.8558 - val_loss: 0.4435 - val_acc: 0.8453\n",
      "Epoch 25/1000\n",
      "50000/50000 [==============================] - 2s 45us/step - loss: 0.4226 - acc: 0.8560 - val_loss: 0.4393 - val_acc: 0.8504\n",
      "Epoch 26/1000\n",
      "50000/50000 [==============================] - 2s 46us/step - loss: 0.4211 - acc: 0.8567 - val_loss: 0.4402 - val_acc: 0.8480\n",
      "Epoch 27/1000\n",
      "50000/50000 [==============================] - 2s 45us/step - loss: 0.4197 - acc: 0.8569 - val_loss: 0.4368 - val_acc: 0.8499\n",
      "Epoch 28/1000\n",
      "50000/50000 [==============================] - 2s 43us/step - loss: 0.4185 - acc: 0.8576 - val_loss: 0.4357 - val_acc: 0.8511\n",
      "Epoch 29/1000\n",
      "50000/50000 [==============================] - 2s 46us/step - loss: 0.4172 - acc: 0.8575 - val_loss: 0.4370 - val_acc: 0.8488\n",
      "Epoch 30/1000\n",
      "50000/50000 [==============================] - 2s 46us/step - loss: 0.4164 - acc: 0.8579 - val_loss: 0.4342 - val_acc: 0.8516\n",
      "Epoch 31/1000\n",
      "50000/50000 [==============================] - 2s 48us/step - loss: 0.4152 - acc: 0.8588 - val_loss: 0.4336 - val_acc: 0.8488\n",
      "Epoch 32/1000\n",
      "50000/50000 [==============================] - 2s 44us/step - loss: 0.4141 - acc: 0.8589 - val_loss: 0.4317 - val_acc: 0.8505\n",
      "Epoch 33/1000\n",
      "50000/50000 [==============================] - 2s 44us/step - loss: 0.4130 - acc: 0.8585 - val_loss: 0.4371 - val_acc: 0.8475\n",
      "Epoch 34/1000\n",
      "50000/50000 [==============================] - 2s 45us/step - loss: 0.4120 - acc: 0.8587 - val_loss: 0.4330 - val_acc: 0.8507\n",
      "Epoch 35/1000\n",
      "50000/50000 [==============================] - 2s 45us/step - loss: 0.4113 - acc: 0.8597 - val_loss: 0.4397 - val_acc: 0.8466\n",
      "Epoch 36/1000\n",
      "50000/50000 [==============================] - 2s 43us/step - loss: 0.4102 - acc: 0.8603 - val_loss: 0.4299 - val_acc: 0.8511\n",
      "Epoch 37/1000\n",
      "50000/50000 [==============================] - 2s 43us/step - loss: 0.4093 - acc: 0.8603 - val_loss: 0.4291 - val_acc: 0.8530\n",
      "Epoch 38/1000\n",
      "50000/50000 [==============================] - 2s 43us/step - loss: 0.4084 - acc: 0.8603 - val_loss: 0.4270 - val_acc: 0.8542\n",
      "Epoch 39/1000\n",
      "50000/50000 [==============================] - 2s 44us/step - loss: 0.4077 - acc: 0.8604 - val_loss: 0.4299 - val_acc: 0.8519\n",
      "Epoch 40/1000\n",
      "50000/50000 [==============================] - 2s 46us/step - loss: 0.4068 - acc: 0.8606 - val_loss: 0.4283 - val_acc: 0.8527\n",
      "Epoch 41/1000\n",
      "50000/50000 [==============================] - 2s 44us/step - loss: 0.4060 - acc: 0.8609 - val_loss: 0.4320 - val_acc: 0.8492\n",
      "Epoch 42/1000\n",
      "50000/50000 [==============================] - 2s 44us/step - loss: 0.4053 - acc: 0.8620 - val_loss: 0.4319 - val_acc: 0.8515\n",
      "Epoch 00042: early stopping\n"
     ]
    }
   ],
   "source": [
    "## let's start with a pretty weak model, no hidden layer, just input and output with softmax\n",
    "from keras.callbacks import EarlyStopping\n",
    "#let's monitor the validation loss, if the validation loss does not decrease during 4 epochs we will stop training\n",
    "early_stop = EarlyStopping(monitor='val_loss', patience=4, verbose=1) \n",
    "\n",
    "\n",
    "nn_model1 = Sequential()\n",
    "nn_model1.add(Dense(10, input_shape = (X_train_rolled.shape[1],)))\n",
    "nn_model1.add(Activation('softmax'))\n",
    "\n",
    "nn_model1.compile(loss='categorical_crossentropy',\n",
    "              optimizer='sgd',\n",
    "              metrics=['accuracy'])\n",
    "\n",
    "history = nn_model1.fit(X_train_rolled, Y_train, batch_size=32, \n",
    "          nb_epoch=1000,verbose=1,\n",
    "          validation_data=(X_val_rolled, Y_val),\n",
    "          callbacks=[early_stop])"
   ]
  },
  {
   "cell_type": "code",
   "execution_count": 20,
   "metadata": {},
   "outputs": [
    {
     "data": {
      "text/plain": [
       "<matplotlib.legend.Legend at 0x10bca7da0>"
      ]
     },
     "execution_count": 20,
     "metadata": {},
     "output_type": "execute_result"
    },
    {
     "data": {
      "image/png": "[encoded data removed]",
      "text/plain": [
       "<matplotlib.figure.Figure at 0x1a42673e48>"
      ]
     },
     "metadata": {},
     "output_type": "display_data"
    }
   ],
   "source": [
    "plt.plot(history.history['loss'])\n",
    "plt.plot(history.history['val_loss'])\n",
    "plt.title('model accuracy')\n",
    "plt.ylabel('accuracy')\n",
    "plt.xlabel('epoch')\n",
    "plt.legend(['train', 'test'], loc='upper left')"
   ]
  },
  {
   "cell_type": "code",
   "execution_count": 21,
   "metadata": {},
   "outputs": [
    {
     "name": "stdout",
     "output_type": "stream",
     "text": [
      "acc is 0.8515\n"
     ]
    }
   ],
   "source": [
    "#we stopped training, let's calculate accuracy on the validation set\n",
    "Y_pred = nn_model1.predict(X_val_rolled)\n",
    "#how many correct predictions\n",
    "correct_num = np.sum(Y_pred.argmax(axis=1)==y_val)\n",
    "print ('acc is {}'.format(correct_num/float(len(y_val))))"
   ]
  },
  {
   "cell_type": "code",
   "execution_count": 22,
   "metadata": {},
   "outputs": [
    {
     "name": "stdout",
     "output_type": "stream",
     "text": [
      "the correct class for image 1 is 9\n"
     ]
    },
    {
     "data": {
      "image/png": "[encoded data removed]",
      "text/plain": [
       "<matplotlib.figure.Figure at 0x1a42c21400>"
      ]
     },
     "metadata": {},
     "output_type": "display_data"
    },
    {
     "data": {
      "image/png": "[encoded data removed]",
      "text/plain": [
       "<matplotlib.figure.Figure at 0x10e368a58>"
      ]
     },
     "metadata": {},
     "output_type": "display_data"
    }
   ],
   "source": [
    "#prediction for image 0\n",
    "plt.figure()\n",
    "plt.imshow(X_val[0],cmap='gray')\n",
    "plt.figure()\n",
    "plt.plot(Y_pred[0],'bo')\n",
    "print ( 'the correct class for image 1 is {}'.format(y_val[0]) )"
   ]
  },
  {
   "cell_type": "code",
   "execution_count": 23,
   "metadata": {},
   "outputs": [
    {
     "name": "stdout",
     "output_type": "stream",
     "text": [
      "the correct class for image 1 is 2\n"
     ]
    },
    {
     "data": {
      "image/png": "[encoded data removed]",
      "text/plain": [
       "<matplotlib.figure.Figure at 0x1a42c88b70>"
      ]
     },
     "metadata": {},
     "output_type": "display_data"
    },
    {
     "data": {
      "image/png": "[encoded data removed]",
      "text/plain": [
       "<matplotlib.figure.Figure at 0x181bcf8780>"
      ]
     },
     "metadata": {},
     "output_type": "display_data"
    }
   ],
   "source": [
    "#prediction for image 1\n",
    "plt.figure()\n",
    "plt.imshow(X_val[1],cmap='gray')\n",
    "plt.figure()\n",
    "plt.plot(Y_pred[1],'bo')\n",
    "print ( 'the correct class for image 1 is {}'.format(y_val[1]) )"
   ]
  },
  {
   "cell_type": "code",
   "execution_count": 24,
   "metadata": {
    "scrolled": true
   },
   "outputs": [
    {
     "name": "stderr",
     "output_type": "stream",
     "text": [
      "/Users/Gabrielle/anaconda3/lib/python3.6/site-packages/keras/models.py:939: UserWarning: The `nb_epoch` argument in `fit` has been renamed `epochs`.\n",
      "  warnings.warn('The `nb_epoch` argument in `fit` '\n"
     ]
    },
    {
     "name": "stdout",
     "output_type": "stream",
     "text": [
      "Train on 50000 samples, validate on 10000 samples\n",
      "Epoch 1/1000\n",
      "50000/50000 [==============================] - 4s 77us/step - loss: 0.7910 - acc: 0.7457 - val_loss: 0.5772 - val_acc: 0.8040\n",
      "Epoch 2/1000\n",
      "50000/50000 [==============================] - 4s 72us/step - loss: 0.5333 - acc: 0.8204 - val_loss: 0.5111 - val_acc: 0.8178\n",
      "Epoch 3/1000\n",
      "50000/50000 [==============================] - 4s 72us/step - loss: 0.4847 - acc: 0.8350 - val_loss: 0.4779 - val_acc: 0.8314\n",
      "Epoch 4/1000\n",
      "50000/50000 [==============================] - 4s 78us/step - loss: 0.4592 - acc: 0.8413 - val_loss: 0.4645 - val_acc: 0.8368\n",
      "Epoch 5/1000\n",
      "50000/50000 [==============================] - 4s 75us/step - loss: 0.4422 - acc: 0.8475 - val_loss: 0.4622 - val_acc: 0.8339\n",
      "Epoch 6/1000\n",
      "50000/50000 [==============================] - 4s 72us/step - loss: 0.4286 - acc: 0.8510 - val_loss: 0.4391 - val_acc: 0.8437\n",
      "Epoch 7/1000\n",
      "50000/50000 [==============================] - 4s 73us/step - loss: 0.4164 - acc: 0.8551 - val_loss: 0.4205 - val_acc: 0.8526\n",
      "Epoch 8/1000\n",
      "50000/50000 [==============================] - 4s 72us/step - loss: 0.4075 - acc: 0.8582 - val_loss: 0.4164 - val_acc: 0.8545\n",
      "Epoch 9/1000\n",
      "50000/50000 [==============================] - 5s 103us/step - loss: 0.3981 - acc: 0.8614 - val_loss: 0.4169 - val_acc: 0.8563\n",
      "Epoch 10/1000\n",
      "50000/50000 [==============================] - 6s 130us/step - loss: 0.3903 - acc: 0.8629 - val_loss: 0.4079 - val_acc: 0.8563\n",
      "Epoch 11/1000\n",
      "50000/50000 [==============================] - 5s 95us/step - loss: 0.3824 - acc: 0.8665 - val_loss: 0.3978 - val_acc: 0.8594\n",
      "Epoch 12/1000\n",
      "50000/50000 [==============================] - 5s 100us/step - loss: 0.3766 - acc: 0.8674 - val_loss: 0.3984 - val_acc: 0.8619\n",
      "Epoch 13/1000\n",
      "50000/50000 [==============================] - 4s 77us/step - loss: 0.3706 - acc: 0.8702 - val_loss: 0.3897 - val_acc: 0.8628\n",
      "Epoch 14/1000\n",
      "50000/50000 [==============================] - 4s 80us/step - loss: 0.3645 - acc: 0.8719 - val_loss: 0.3973 - val_acc: 0.8604\n",
      "Epoch 15/1000\n",
      "50000/50000 [==============================] - 4s 89us/step - loss: 0.3587 - acc: 0.8747 - val_loss: 0.3873 - val_acc: 0.8653\n",
      "Epoch 16/1000\n",
      "50000/50000 [==============================] - 5s 95us/step - loss: 0.3540 - acc: 0.8759 - val_loss: 0.3771 - val_acc: 0.8666\n",
      "Epoch 17/1000\n",
      "50000/50000 [==============================] - 5s 100us/step - loss: 0.3492 - acc: 0.8771 - val_loss: 0.3743 - val_acc: 0.8687\n",
      "Epoch 18/1000\n",
      "50000/50000 [==============================] - 5s 91us/step - loss: 0.3449 - acc: 0.8789 - val_loss: 0.3797 - val_acc: 0.8664\n",
      "Epoch 19/1000\n",
      "50000/50000 [==============================] - 5s 93us/step - loss: 0.3404 - acc: 0.8799 - val_loss: 0.3729 - val_acc: 0.8677\n",
      "Epoch 20/1000\n",
      "50000/50000 [==============================] - 4s 80us/step - loss: 0.3362 - acc: 0.8814 - val_loss: 0.3698 - val_acc: 0.8715\n",
      "Epoch 21/1000\n",
      "50000/50000 [==============================] - 4s 86us/step - loss: 0.3319 - acc: 0.8831 - val_loss: 0.3834 - val_acc: 0.8658\n",
      "Epoch 22/1000\n",
      "50000/50000 [==============================] - 4s 81us/step - loss: 0.3283 - acc: 0.8839 - val_loss: 0.3746 - val_acc: 0.8691\n",
      "Epoch 23/1000\n",
      "50000/50000 [==============================] - 4s 84us/step - loss: 0.3249 - acc: 0.8854 - val_loss: 0.3777 - val_acc: 0.8669\n",
      "Epoch 24/1000\n",
      "50000/50000 [==============================] - 4s 81us/step - loss: 0.3215 - acc: 0.8857 - val_loss: 0.3649 - val_acc: 0.8717\n",
      "Epoch 25/1000\n",
      "50000/50000 [==============================] - 4s 82us/step - loss: 0.3178 - acc: 0.8869 - val_loss: 0.3638 - val_acc: 0.8722\n",
      "Epoch 26/1000\n",
      "50000/50000 [==============================] - 5s 95us/step - loss: 0.3145 - acc: 0.8893 - val_loss: 0.3524 - val_acc: 0.8757\n",
      "Epoch 27/1000\n",
      "50000/50000 [==============================] - 5s 102us/step - loss: 0.3120 - acc: 0.8904 - val_loss: 0.3571 - val_acc: 0.8717\n",
      "Epoch 28/1000\n",
      "50000/50000 [==============================] - 6s 111us/step - loss: 0.3081 - acc: 0.8912 - val_loss: 0.3715 - val_acc: 0.8678\n",
      "Epoch 29/1000\n",
      "50000/50000 [==============================] - 5s 93us/step - loss: 0.3056 - acc: 0.8898 - val_loss: 0.3511 - val_acc: 0.8763\n",
      "Epoch 30/1000\n",
      "50000/50000 [==============================] - 4s 78us/step - loss: 0.3026 - acc: 0.8921 - val_loss: 0.3608 - val_acc: 0.8718\n",
      "Epoch 31/1000\n",
      "50000/50000 [==============================] - 5s 103us/step - loss: 0.2993 - acc: 0.8937 - val_loss: 0.3524 - val_acc: 0.8740\n",
      "Epoch 32/1000\n",
      "50000/50000 [==============================] - 4s 78us/step - loss: 0.2976 - acc: 0.8943 - val_loss: 0.3535 - val_acc: 0.8745\n",
      "Epoch 33/1000\n",
      "50000/50000 [==============================] - 4s 81us/step - loss: 0.2946 - acc: 0.8966 - val_loss: 0.3452 - val_acc: 0.8772\n",
      "Epoch 34/1000\n",
      "50000/50000 [==============================] - 4s 86us/step - loss: 0.2916 - acc: 0.8965 - val_loss: 0.3452 - val_acc: 0.8759\n",
      "Epoch 35/1000\n",
      "50000/50000 [==============================] - 4s 74us/step - loss: 0.2900 - acc: 0.8974 - val_loss: 0.3453 - val_acc: 0.8791\n",
      "Epoch 36/1000\n",
      "50000/50000 [==============================] - 4s 81us/step - loss: 0.2866 - acc: 0.8984 - val_loss: 0.3397 - val_acc: 0.8795\n",
      "Epoch 37/1000\n",
      "50000/50000 [==============================] - 4s 73us/step - loss: 0.2851 - acc: 0.8982 - val_loss: 0.3582 - val_acc: 0.8731\n",
      "Epoch 38/1000\n",
      "50000/50000 [==============================] - 4s 78us/step - loss: 0.2822 - acc: 0.9013 - val_loss: 0.3423 - val_acc: 0.8784\n",
      "Epoch 39/1000\n",
      "50000/50000 [==============================] - 4s 74us/step - loss: 0.2792 - acc: 0.9014 - val_loss: 0.3426 - val_acc: 0.8787\n",
      "Epoch 40/1000\n",
      "50000/50000 [==============================] - 4s 71us/step - loss: 0.2774 - acc: 0.9020 - val_loss: 0.3399 - val_acc: 0.8818\n",
      "Epoch 00040: early stopping\n"
     ]
    }
   ],
   "source": [
    "## Let's try a more complicated model  - adding a hidden layer with 100 neurons and relu activation\n",
    "\n",
    "#let's monitor the validation loss, if the validation loss does not decrease during 4 epochs we will stop training\n",
    "early_stop = EarlyStopping(monitor='val_loss', patience=4, verbose=1) \n",
    "\n",
    "\n",
    "nn_model2 = Sequential()\n",
    "nn_model2.add(Dense(100, input_shape = (X_train_rolled.shape[1],)))\n",
    "nn_model2.add(Activation('relu'))\n",
    "\n",
    "nn_model2.add(Dense(10))\n",
    "nn_model2.add(Activation('softmax'))\n",
    "\n",
    "nn_model2.compile(loss='categorical_crossentropy',\n",
    "              optimizer='sgd',\n",
    "              metrics=['accuracy'])\n",
    "\n",
    "history = nn_model2.fit(X_train_rolled, Y_train, batch_size=32, \n",
    "          nb_epoch=1000,verbose=1,\n",
    "          validation_data=(X_val_rolled, Y_val),\n",
    "          callbacks=[early_stop])"
   ]
  },
  {
   "cell_type": "code",
   "execution_count": 25,
   "metadata": {},
   "outputs": [
    {
     "data": {
      "text/plain": [
       "<matplotlib.legend.Legend at 0x1a42760550>"
      ]
     },
     "execution_count": 25,
     "metadata": {},
     "output_type": "execute_result"
    },
    {
     "data": {
      "image/png": "[encoded data removed]",
      "text/plain": [
       "<matplotlib.figure.Figure at 0x1a4245cac8>"
      ]
     },
     "metadata": {},
     "output_type": "display_data"
    }
   ],
   "source": [
    "plt.plot(history.history['loss'])\n",
    "plt.plot(history.history['val_loss'])\n",
    "plt.title('model accuracy')\n",
    "plt.ylabel('accuracy')\n",
    "plt.xlabel('epoch')\n",
    "plt.legend(['train', 'test'], loc='upper left')"
   ]
  },
  {
   "cell_type": "code",
   "execution_count": null,
   "metadata": {},
   "outputs": [
    {
     "name": "stdout",
     "output_type": "stream",
     "text": [
      "acc is 0.8818\n"
     ]
    }
   ],
   "source": [
    "#we stopped training, let's calculate accuracy on the validation set\n",
    "Y_pred = nn_model2.predict(X_val_rolled)\n",
    "#how many correct predictions\n",
    "correct_num = np.sum(Y_pred.argmax(axis=1)==y_val)\n",
    "print ('acc is {}'.format(correct_num/float(len(y_val))))"
   ]
  },
  {
   "cell_type": "code",
   "execution_count": null,
   "metadata": {
    "scrolled": true
   },
   "outputs": [
    {
     "name": "stderr",
     "output_type": "stream",
     "text": [
      "/Users/Gabrielle/anaconda3/lib/python3.6/site-packages/keras/models.py:939: UserWarning: The `nb_epoch` argument in `fit` has been renamed `epochs`.\n",
      "  warnings.warn('The `nb_epoch` argument in `fit` '\n"
     ]
    },
    {
     "name": "stdout",
     "output_type": "stream",
     "text": [
      "Train on 50000 samples, validate on 10000 samples\n",
      "Epoch 1/1000\n",
      "50000/50000 [==============================] - 16s 329us/step - loss: 0.7079 - acc: 0.7650 - val_loss: 0.5354 - val_acc: 0.8113\n",
      "Epoch 2/1000\n",
      "50000/50000 [==============================] - 15s 297us/step - loss: 0.4716 - acc: 0.8357 - val_loss: 0.4437 - val_acc: 0.8439\n",
      "Epoch 3/1000\n",
      "50000/50000 [==============================] - 20s 400us/step - loss: 0.4254 - acc: 0.8512 - val_loss: 0.4671 - val_acc: 0.8357\n",
      "Epoch 4/1000\n",
      "50000/50000 [==============================] - 15s 301us/step - loss: 0.3959 - acc: 0.8608 - val_loss: 0.4025 - val_acc: 0.8611\n",
      "Epoch 5/1000\n",
      "50000/50000 [==============================] - 15s 295us/step - loss: 0.3732 - acc: 0.8685 - val_loss: 0.4232 - val_acc: 0.8474\n",
      "Epoch 6/1000\n",
      "50000/50000 [==============================] - 13s 261us/step - loss: 0.3563 - acc: 0.8739 - val_loss: 0.3789 - val_acc: 0.8659\n",
      "Epoch 7/1000\n",
      "50000/50000 [==============================] - 14s 280us/step - loss: 0.3416 - acc: 0.8784 - val_loss: 0.3730 - val_acc: 0.8682\n",
      "Epoch 8/1000\n",
      "43616/50000 [=========================>....] - ETA: 1s - loss: 0.3270 - acc: 0.8834"
     ]
    }
   ],
   "source": [
    "## Let's try an even more complicated mode, 2 hidden layers with 512 neurons and another hidden layer with 64 neurons\n",
    "\n",
    "#let's monitor the validation loss, if the validation loss does not decrease during 4 epochs we will stop training\n",
    "early_stop = EarlyStopping(monitor='val_loss', patience=4, verbose=1) \n",
    "\n",
    "\n",
    "nn_model3 = Sequential()\n",
    "nn_model3.add(Dense(512, input_shape = (X_train_rolled.shape[1],)))\n",
    "nn_model3.add(Activation('relu'))\n",
    "nn_model3.add(Dense(512, input_shape = (X_train_rolled.shape[1],)))\n",
    "nn_model3.add(Activation('relu'))\n",
    "nn_model3.add(Dense(64, input_shape = (X_train_rolled.shape[1],)))\n",
    "nn_model3.add(Activation('relu'))\n",
    "\n",
    "\n",
    "nn_model3.add(Dense(10))\n",
    "nn_model3.add(Activation('softmax'))\n",
    "\n",
    "nn_model3.compile(loss='categorical_crossentropy',\n",
    "              optimizer='sgd',\n",
    "              metrics=['accuracy'])\n",
    "\n",
    "history = nn_model3.fit(X_train_rolled, Y_train, batch_size=32, \n",
    "          nb_epoch=1000,verbose=1,\n",
    "          validation_data=(X_val_rolled, Y_val),\n",
    "          callbacks=[early_stop])"
   ]
  },
  {
   "cell_type": "code",
   "execution_count": null,
   "metadata": {
    "collapsed": true
   },
   "outputs": [],
   "source": [
    "plt.plot(history.history['loss'])\n",
    "plt.plot(history.history['val_loss'])\n",
    "plt.title('model accuracy')\n",
    "plt.ylabel('accuracy')\n",
    "plt.xlabel('epoch')\n",
    "plt.legend(['train', 'test'], loc='upper left')"
   ]
  },
  {
   "cell_type": "code",
   "execution_count": null,
   "metadata": {
    "collapsed": true
   },
   "outputs": [],
   "source": [
    "#we stopped training, let's calculate accuracy on the validation set\n",
    "Y_pred = nn_model3.predict(X_val_rolled)\n",
    "#how many correct predictions\n",
    "correct_num = np.sum(Y_pred.argmax(axis=1)==y_val)\n",
    "print ('acc is {}'.format(correct_num/float(len(y_val))))"
   ]
  },
  {
   "cell_type": "code",
   "execution_count": null,
   "metadata": {
    "collapsed": true
   },
   "outputs": [],
   "source": [
    "#the accuracy is worse, perhpas I overfitted"
   ]
  },
  {
   "cell_type": "markdown",
   "metadata": {},
   "source": [
    "### Ensemble of the 3 NN models - Y_pred are matrices of 10k rows for each sample, of 10 columns representing the probability of the 10 classes."
   ]
  },
  {
   "cell_type": "code",
   "execution_count": null,
   "metadata": {
    "collapsed": true
   },
   "outputs": [],
   "source": [
    "Y_pred1 = nn_model1.predict(X_val_rolled)\n",
    "Y_pred2 = nn_model2.predict(X_val_rolled)\n",
    "Y_pred3 = nn_model3.predict(X_val_rolled)\n",
    "\n",
    "\n",
    "Y_ensemble = (Y_pred1 + Y_pred2 + Y_pred3)/3"
   ]
  },
  {
   "cell_type": "code",
   "execution_count": null,
   "metadata": {
    "collapsed": true
   },
   "outputs": [],
   "source": [
    "correct_num = np.sum(Y_ensemble.argmax(axis=1)==y_val)\n",
    "print ('acc is {}'.format(correct_num/float(len(y_val))))"
   ]
  },
  {
   "cell_type": "code",
   "execution_count": null,
   "metadata": {
    "collapsed": true
   },
   "outputs": [],
   "source": [
    "# got a slight improvment "
   ]
  },
  {
   "cell_type": "markdown",
   "metadata": {},
   "source": [
    "## Let's try regular ConvNets\n"
   ]
  },
  {
   "cell_type": "code",
   "execution_count": null,
   "metadata": {
    "collapsed": true
   },
   "outputs": [],
   "source": [
    "from keras.layers.convolutional import Convolution2D\n",
    "from keras.layers.pooling import MaxPooling2D\n",
    "from keras.layers.core import  Flatten\n",
    "\n",
    "print ('out data sahpe is {}'.format(X_train.shape))\n",
    "print ('we need to add a dummy dimension as the last dimension')\n",
    "X_train_orig = X_train.copy()\n",
    "X_val_orig = X_val.copy()\n",
    "\n",
    "X_train = X_train.reshape(X_train.shape[0],X_train.shape[1],X_train.shape[2],1)\n",
    "X_val = X_val.reshape(X_val.shape[0],X_val.shape[1],X_val.shape[2],1)\n",
    "\n",
    "print ('now our data shape is {}'.format(X_train.shape))"
   ]
  },
  {
   "cell_type": "code",
   "execution_count": null,
   "metadata": {
    "collapsed": true,
    "scrolled": true
   },
   "outputs": [],
   "source": [
    "#let's start with a simple convnet - one conv layer, followed by  relu operation, and then fully connected layer\n",
    "conv_model1 = Sequential()\n",
    "conv_model1.add(Convolution2D(20, 3, 3, # 20 filters of 3 x 3\n",
    "                        border_mode='valid', # take care of padding for me\n",
    "                        input_shape=(28, 28,1)))\n",
    "conv_model1.add(Activation('relu'))\n",
    "conv_model1.add(MaxPooling2D( pool_size = (2,2))) # kernel size 2, stride 2\n",
    "conv_model1.add(Flatten())\n",
    "conv_model1.add(Dense(10)) # for each class\n",
    "conv_model1.add(Activation('softmax'))\n",
    "\n",
    "conv_model1.compile(loss='categorical_crossentropy',\n",
    "              optimizer='sgd',\n",
    "              metrics=['accuracy'])\n",
    "\n",
    "history = conv_model1.fit(X_train, Y_train, batch_size=32, \n",
    "          nb_epoch=1000,verbose=1,\n",
    "          validation_data=(X_val, Y_val),\n",
    "          callbacks=[early_stop])"
   ]
  },
  {
   "cell_type": "code",
   "execution_count": null,
   "metadata": {
    "collapsed": true
   },
   "outputs": [],
   "source": [
    "plt.plot(history.history['loss'])\n",
    "plt.plot(history.history['val_loss'])\n",
    "plt.title('model accuracy')\n",
    "plt.ylabel('accuracy')\n",
    "plt.xlabel('epoch')\n",
    "plt.legend(['train', 'test'], loc='upper left')"
   ]
  },
  {
   "cell_type": "code",
   "execution_count": null,
   "metadata": {
    "collapsed": true
   },
   "outputs": [],
   "source": [
    "Y_pred = conv_model1.predict(X_val)\n",
    "#how many correct predictions\n",
    "correct_num = np.sum(Y_pred.argmax(axis=1)==y_val)\n",
    "print ('acc is {}'.format(correct_num/float(len(y_val))))"
   ]
  },
  {
   "cell_type": "code",
   "execution_count": null,
   "metadata": {
    "collapsed": true,
    "scrolled": true
   },
   "outputs": [],
   "source": [
    "#a more complicated - one conv layer, followed by  relu operation, followed by another conv layer,\n",
    "# and then fully connected layer\n",
    "conv_model2 = Sequential()\n",
    "conv_model2 .add(Convolution2D(20, 3, 3,\n",
    "                        border_mode='valid',\n",
    "                        input_shape=(28, 28,1)))\n",
    "conv_model2.add(Activation('relu'))\n",
    "conv_model2.add(MaxPooling2D( pool_size = (2,2)))\n",
    "\n",
    "conv_model2 .add(Convolution2D(20, 3, 3,\n",
    "                        border_mode='valid',\n",
    "                        input_shape=(28, 28,1)))\n",
    "conv_model2.add(Activation('relu'))\n",
    "conv_model2.add(MaxPooling2D( pool_size = (2,2)))\n",
    "\n",
    "\n",
    "conv_model2.add(Flatten())\n",
    "conv_model2.add(Dense(10))\n",
    "conv_model2.add(Activation('softmax'))\n",
    "\n",
    "conv_model2.compile(loss='categorical_crossentropy',\n",
    "              optimizer='sgd',\n",
    "              metrics=['accuracy'])\n",
    "\n",
    "history = conv_model2.fit(X_train, Y_train, batch_size=32, \n",
    "          nb_epoch=1000,verbose=1,\n",
    "          validation_data=(X_val, Y_val),\n",
    "          callbacks=[early_stop])"
   ]
  },
  {
   "cell_type": "code",
   "execution_count": null,
   "metadata": {
    "collapsed": true
   },
   "outputs": [],
   "source": [
    "plt.plot(history.history['loss'])\n",
    "plt.plot(history.history['val_loss'])\n",
    "plt.title('model accuracy')\n",
    "plt.ylabel('accuracy')\n",
    "plt.xlabel('epoch')\n",
    "plt.legend(['train', 'test'], loc='upper left')"
   ]
  },
  {
   "cell_type": "code",
   "execution_count": null,
   "metadata": {
    "collapsed": true
   },
   "outputs": [],
   "source": [
    "Y_pred = conv_model2.predict(X_val)\n",
    "#how many correct predictions\n",
    "correct_num = np.sum(Y_pred.argmax(axis=1)==y_val)\n",
    "print ('acc is {}'.format(correct_num/float(len(y_val))))"
   ]
  },
  {
   "cell_type": "code",
   "execution_count": null,
   "metadata": {
    "collapsed": true,
    "scrolled": true
   },
   "outputs": [],
   "source": [
    "#lower acc! :( let's try to add another fc layer\n",
    "conv_model3 = Sequential()\n",
    "conv_model3.add(Convolution2D(20, 3, 3,\n",
    "                        border_mode='valid',\n",
    "                        input_shape=(28, 28,1)))\n",
    "conv_model3.add(Activation('relu'))\n",
    "conv_model3.add(MaxPooling2D( pool_size = (2,2)))\n",
    "conv_model3.add(Flatten())\n",
    "conv_model3.add(Dropout(0.5))\n",
    "conv_model3.add(Dense(100))\n",
    "conv_model3.add(Activation('relu'))\n",
    "conv_model3.add(Dropout(0.5))\n",
    "conv_model3.add(Dense(10))\n",
    "conv_model3.add(Activation('softmax'))\n",
    "\n",
    "conv_model3.compile(loss='categorical_crossentropy',\n",
    "              optimizer='sgd',\n",
    "              metrics=['accuracy'])\n",
    "\n",
    "history = conv_model3.fit(X_train, Y_train, batch_size=32, \n",
    "          nb_epoch=1000,verbose=1,\n",
    "          validation_data=(X_val, Y_val),\n",
    "          callbacks=[early_stop])"
   ]
  },
  {
   "cell_type": "code",
   "execution_count": null,
   "metadata": {
    "collapsed": true
   },
   "outputs": [],
   "source": [
    "plt.plot(history.history['loss'])\n",
    "plt.plot(history.history['val_loss'])\n",
    "plt.title('model accuracy')\n",
    "plt.ylabel('accuracy')\n",
    "plt.xlabel('epoch')\n",
    "plt.legend(['train', 'test'], loc='upper left')"
   ]
  },
  {
   "cell_type": "code",
   "execution_count": null,
   "metadata": {
    "collapsed": true
   },
   "outputs": [],
   "source": [
    "Y_pred = conv_model3.predict(X_val)\n",
    "#how many correct predictions\n",
    "correct_num = np.sum(Y_pred.argmax(axis=1)==y_val)\n",
    "print ('acc is {}'.format(correct_num/float(len(y_val))))"
   ]
  },
  {
   "cell_type": "markdown",
   "metadata": {},
   "source": [
    "# Bamm! 90% acc!\n",
    "# maybe we can squeeze a bit more using data augmentation"
   ]
  },
  {
   "cell_type": "code",
   "execution_count": null,
   "metadata": {
    "collapsed": true,
    "scrolled": true
   },
   "outputs": [],
   "source": [
    "from keras.preprocessing.image import ImageDataGenerator\n",
    "\n",
    "datagen = ImageDataGenerator(\n",
    "    #width_shift_range=0.1,  # randomly shift images horizontally (fraction of total width)\n",
    "    #height_shift_range=0.1,  # randomly shift images vertically (fraction of total height)\n",
    "    horizontal_flip=True,  # randomly flip images\n",
    "    vertical_flip=False)  # randomly flip images\n",
    "\n",
    "conv_model3 = Sequential()\n",
    "conv_model3.add(Convolution2D(20, 3, 3,\n",
    "                        border_mode='valid',\n",
    "                        input_shape=(28, 28,1)))\n",
    "conv_model3.add(Activation('relu'))\n",
    "conv_model3.add(MaxPooling2D( pool_size = (2,2)))\n",
    "conv_model3.add(Flatten())\n",
    "conv_model3.add(Dropout(0.5)) # Add droupout before dense layers becausea lot off \n",
    "conv_model3.add(Dense(100))\n",
    "conv_model3.add(Activation('relu'))\n",
    "conv_model3.add(Dropout(0.5))\n",
    "conv_model3.add(Dense(10))\n",
    "conv_model3.add(Activation('softmax'))\n",
    "\n",
    "conv_model3.compile(loss='categorical_crossentropy',\n",
    "              optimizer='sgd',\n",
    "              metrics=['accuracy'])\n",
    "\n",
    "history = conv_model3.fit_generator(datagen.flow(X_train, Y_train, batch_size=32), \n",
    "          nb_epoch=1000,verbose=1,\n",
    "          validation_data=(X_val, Y_val),\n",
    "          callbacks=[early_stop])"
   ]
  },
  {
   "cell_type": "code",
   "execution_count": null,
   "metadata": {
    "collapsed": true
   },
   "outputs": [],
   "source": [
    "Y_pred = conv_model3.predict(X_val)\n",
    "#how many correct predictions\n",
    "correct_num = np.sum(Y_pred.argmax(axis=1)==y_val)\n",
    "print ('acc is {}'.format(correct_num/float(len(y_val))))"
   ]
  },
  {
   "cell_type": "code",
   "execution_count": null,
   "metadata": {
    "collapsed": true
   },
   "outputs": [],
   "source": [
    "# the acc is lower, strange, never mind"
   ]
  },
  {
   "cell_type": "markdown",
   "metadata": {},
   "source": [
    "## Conv3 gave the best acc on val, so let's report its performance on test "
   ]
  },
  {
   "cell_type": "code",
   "execution_count": null,
   "metadata": {
    "collapsed": true
   },
   "outputs": [],
   "source": [
    "X_test = X_test.reshape(X_test.shape[0],X_test.shape[1],X_test.shape[2],1)\n",
    "\n",
    "Y_pred = conv_model3.predict(X_test)\n",
    "#how many correct predictions\n",
    "correct_num = np.sum(Y_pred.argmax(axis=1)==y_test)\n",
    "print ('acc is {}'.format(correct_num/float(len(y_test))))"
   ]
  },
  {
   "cell_type": "code",
   "execution_count": null,
   "metadata": {
    "collapsed": true
   },
   "outputs": [],
   "source": []
  }
 ],
 "metadata": {
  "kernelspec": {
   "display_name": "Python 3",
   "language": "python",
   "name": "python3"
  },
  "language_info": {
   "codemirror_mode": {
    "name": "ipython",
    "version": 3
   },
   "file_extension": ".py",
   "mimetype": "text/x-python",
   "name": "python",
   "nbconvert_exporter": "python",
   "pygments_lexer": "ipython3",
   "version": "3.6.3"
  }
 },
 "nbformat": 4,
 "nbformat_minor": 1
}
