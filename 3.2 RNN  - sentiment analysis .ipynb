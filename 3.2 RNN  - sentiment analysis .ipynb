{
 "cells": [
  {
   "cell_type": "markdown",
   "metadata": {},
   "source": [
    "Recurrent Neural networks\n",
    "====="
   ]
  },
  {
   "cell_type": "markdown",
   "metadata": {},
   "source": [
    "### RNN  "
   ]
  },
  {
   "cell_type": "markdown",
   "metadata": {},
   "source": [
    "<img src =\"imgs/rnn.png\" width=\"20%\">"
   ]
  },
  {
   "cell_type": "markdown",
   "metadata": {},
   "source": [
    "A recurrent neural network (RNN) is a class of artificial neural network where connections between units form a directed cycle. This creates an internal state of the network which allows it to exhibit dynamic temporal behavior."
   ]
  },
  {
   "cell_type": "code",
   "execution_count": 1,
   "metadata": {},
   "outputs": [
    {
     "name": "stderr",
     "output_type": "stream",
     "text": [
      "Using TensorFlow backend.\n",
      "/Users/Gabrielle/anaconda3/lib/python3.6/importlib/_bootstrap.py:219: RuntimeWarning: compiletime version 3.5 of module 'tensorflow.python.framework.fast_tensor_util' does not match runtime version 3.6\n",
      "  return f(*args, **kwds)\n"
     ]
    }
   ],
   "source": [
    "import keras\n",
    "output_dim = 100"
   ]
  },
  {
   "cell_type": "code",
   "execution_count": 3,
   "metadata": {},
   "outputs": [
    {
     "data": {
      "text/plain": [
       "<keras.layers.recurrent.SimpleRNN at 0x12703aa58>"
      ]
     },
     "execution_count": 3,
     "metadata": {},
     "output_type": "execute_result"
    }
   ],
   "source": [
    "keras.layers.recurrent.SimpleRNN(output_dim,\n",
    "                                  activation=\"tanh\",\n",
    "                                  kernel_initializer=\"glorot_uniform\",\n",
    "                                  recurrent_initializer=\"orthogonal\",\n",
    "                                  kernel_regularizer=None,\n",
    "                                  bias_regularizer=None,\n",
    "                                  recurrent_regularizer=None,\n",
    "                                  dropout=0.0,\n",
    "                                  recurrent_dropout=0.0)"
   ]
  },
  {
   "cell_type": "markdown",
   "metadata": {},
   "source": [
    "#### Backprop Through time  "
   ]
  },
  {
   "cell_type": "markdown",
   "metadata": {},
   "source": [
    "Contrary to feed-forward neural networks, the RNN is characterized by the ability of encoding longer past information, thus very suitable for sequential models. The BPTT extends the ordinary BP algorithm to suit the recurrent neural\n",
    "architecture."
   ]
  },
  {
   "cell_type": "markdown",
   "metadata": {
    "scrolled": true
   },
   "source": [
    "<img src =\"imgs/rnn2.png\" width=\"45%\">"
   ]
  },
  {
   "cell_type": "code",
   "execution_count": 4,
   "metadata": {
    "collapsed": true
   },
   "outputs": [],
   "source": [
    "%matplotlib inline"
   ]
  },
  {
   "cell_type": "code",
   "execution_count": 8,
   "metadata": {},
   "outputs": [
    {
     "name": "stderr",
     "output_type": "stream",
     "text": [
      "/Users/Gabrielle/anaconda3/lib/python3.6/site-packages/sklearn/cross_validation.py:41: DeprecationWarning: This module was deprecated in version 0.18 in favor of the model_selection module into which all the refactored classes and functions are moved. Also note that the interface of the new CV iterators are different from that of this module. This module will be removed in 0.20.\n",
      "  \"This module will be removed in 0.20.\", DeprecationWarning)\n"
     ]
    },
    {
     "ename": "ImportError",
     "evalue": "cannot import name 'TimeDistributedDense'",
     "output_type": "error",
     "traceback": [
      "\u001b[0;31m---------------------------------------------------------------------------\u001b[0m",
      "\u001b[0;31mImportError\u001b[0m                               Traceback (most recent call last)",
      "\u001b[0;32m<ipython-input-8-3fa4c42362ce>\u001b[0m in \u001b[0;36m<module>\u001b[0;34m()\u001b[0m\n\u001b[1;32m     23\u001b[0m \u001b[0;32mfrom\u001b[0m \u001b[0msklearn\u001b[0m\u001b[0;34m.\u001b[0m\u001b[0mpreprocessing\u001b[0m \u001b[0;32mimport\u001b[0m \u001b[0mStandardScaler\u001b[0m\u001b[0;34m\u001b[0m\u001b[0m\n\u001b[1;32m     24\u001b[0m \u001b[0;32mfrom\u001b[0m \u001b[0msklearn\u001b[0m\u001b[0;34m.\u001b[0m\u001b[0mcross_validation\u001b[0m \u001b[0;32mimport\u001b[0m \u001b[0mtrain_test_split\u001b[0m\u001b[0;34m\u001b[0m\u001b[0m\n\u001b[0;32m---> 25\u001b[0;31m \u001b[0;32mfrom\u001b[0m \u001b[0mkeras\u001b[0m\u001b[0;34m.\u001b[0m\u001b[0mlayers\u001b[0m\u001b[0;34m.\u001b[0m\u001b[0mcore\u001b[0m \u001b[0;32mimport\u001b[0m \u001b[0mActivation\u001b[0m\u001b[0;34m,\u001b[0m \u001b[0mTimeDistributedDense\u001b[0m\u001b[0;34m,\u001b[0m \u001b[0mRepeatVector\u001b[0m\u001b[0;34m\u001b[0m\u001b[0m\n\u001b[0m\u001b[1;32m     26\u001b[0m \u001b[0;32mfrom\u001b[0m \u001b[0mkeras\u001b[0m\u001b[0;34m.\u001b[0m\u001b[0mcallbacks\u001b[0m \u001b[0;32mimport\u001b[0m \u001b[0mEarlyStopping\u001b[0m\u001b[0;34m,\u001b[0m \u001b[0mModelCheckpoint\u001b[0m\u001b[0;34m\u001b[0m\u001b[0m\n\u001b[1;32m     27\u001b[0m \u001b[0;34m\u001b[0m\u001b[0m\n",
      "\u001b[0;31mImportError\u001b[0m: cannot import name 'TimeDistributedDense'"
     ]
    }
   ],
   "source": [
    "import numpy as np\n",
    "import pandas as pd\n",
    "import theano\n",
    "import theano.tensor as T\n",
    "import keras \n",
    "from keras.models import Sequential\n",
    "from keras.layers import Dense, Activation\n",
    "from keras.preprocessing import image\n",
    "from __future__ import print_function\n",
    "import numpy as np\n",
    "import matplotlib.pyplot as plt\n",
    "\n",
    "from keras.datasets import imdb\n",
    "from keras.datasets import mnist\n",
    "from keras.models import Sequential\n",
    "from keras.layers import Dense, Dropout, Activation, Flatten\n",
    "from keras.layers import Convolution2D, MaxPooling2D\n",
    "from keras.utils import np_utils\n",
    "from keras.preprocessing import sequence\n",
    "from keras.layers.embeddings import Embedding\n",
    "from keras.layers.recurrent import LSTM, GRU, SimpleRNN\n",
    "from sklearn.preprocessing import LabelEncoder\n",
    "from sklearn.preprocessing import StandardScaler\n",
    "from sklearn.cross_validation import train_test_split\n",
    "from keras.layers.core import Activation, TimeDistributedDense, RepeatVector\n",
    "from keras.callbacks import EarlyStopping, ModelCheckpoint\n",
    "\n",
    "import tensorflow as tf\n",
    "\n",
    "tf.python.control_flow_ops = tf"
   ]
  },
  {
   "cell_type": "markdown",
   "metadata": {},
   "source": [
    "#### IMDB sentiment classification task"
   ]
  },
  {
   "cell_type": "markdown",
   "metadata": {},
   "source": [
    "This is a dataset for binary sentiment classification containing substantially more data than previous benchmark datasets. \n",
    "\n",
    "IMDB provided a set of 25,000 highly polar movie reviews for training, and 25,000 for testing. \n",
    "\n",
    "There is additional unlabeled data for use as well. Raw text and already processed bag of words formats are provided. \n",
    "\n",
    "http://ai.stanford.edu/~amaas/data/sentiment/"
   ]
  },
  {
   "cell_type": "markdown",
   "metadata": {},
   "source": [
    "#### Data Preparation - IMDB"
   ]
  },
  {
   "cell_type": "code",
   "execution_count": null,
   "metadata": {},
   "outputs": [],
   "source": [
    "max_features = 20000\n",
    "maxlen = 100  # trim reviews after this number of words (among top max_features most common words)\n",
    "batch_size = 32\n",
    "\n",
    "print(\"Loading data...\")\n",
    "# (X_train, y_train), (X_test, y_test) = imdb.load_data(nb_words=max_features, test_split=0.2)\n",
    "(X_train, y_train), (X_test, y_test) = imdb.load_data(nb_words=max_features)\n",
    "\n",
    "print(len(X_train), 'train sequences')\n",
    "print(len(X_test), 'test sequences')\n",
    "\n",
    "print('Example:')\n",
    "print(X_train[:1])\n",
    "\n",
    "# Add padding - for reviews below maxlen words, add (maxlen - len) 0\n",
    "print(\"Pad sequences (samples x time)\")\n",
    "X_train = sequence.pad_sequences(X_train, maxlen=maxlen)\n",
    "X_test = sequence.pad_sequences(X_test, maxlen=maxlen)\n",
    "print('X_train shape:', X_train.shape)\n",
    "print('X_test shape:', X_test.shape)\n",
    "\n",
    "max_epoch = 50"
   ]
  },
  {
   "cell_type": "markdown",
   "metadata": {},
   "source": [
    "#### Model building "
   ]
  },
  {
   "attachments": {},
   "cell_type": "markdown",
   "metadata": {},
   "source": [
    "![Sentiment analysis architecture](https://cdn-images-1.medium.com/max/489/1*27JmK8VBdphpSCWNb4MhNA.png!)\n",
    "\n",
    "Input:\n",
    "sequence of one-hot vectors, \n",
    "each on fed to the embedding layer, transforms it into the ___ dimentional vector,\n",
    "feed it to the \n",
    "\n",
    "take the last hidden state\n",
    "pass it to the\n",
    "\n",
    "get the output\n",
    "compute the loss,\n",
    "do back propagation"
   ]
  },
  {
   "cell_type": "code",
   "execution_count": 7,
   "metadata": {},
   "outputs": [
    {
     "name": "stdout",
     "output_type": "stream",
     "text": [
      "Build model...\n",
      "Train...\n",
      "Train on 25000 samples, validate on 25000 samples\n",
      "Epoch 1/1\n",
      "25000/25000 [==============================] - 67s - loss: 0.7097 - acc: 0.5400 - val_loss: 0.6028 - val_acc: 0.6584\n",
      "24992/25000 [============================>.] - ETA: 0s\n",
      "Test accuracy: 0.602803128452\n",
      "Test loss: 0.65844\n"
     ]
    }
   ],
   "source": [
    "print('Build model...')\n",
    "model = Sequential()\n",
    "model.add(Embedding(max_features, 128, input_length=maxlen))\n",
    "model.add(SimpleRNN(128))  \n",
    "model.add(Dropout(0.5))\n",
    "model.add(Dense(1))\n",
    "model.add(Activation('sigmoid'))\n",
    "\n",
    "# try using different optimizers and different optimizer configs\n",
    "model.compile(loss='binary_crossentropy', optimizer='adam',metrics=[\"accuracy\"])\n",
    "\n",
    "print(\"Train...\")\n",
    "model.fit(X_train, y_train, batch_size=batch_size, nb_epoch=1, validation_data=(X_test, y_test))\n",
    "acc , loss = model.evaluate(X_test, y_test, batch_size=batch_size)\n",
    "print()\n",
    "print('Test accuracy:', acc)\n",
    "print('Test loss:', loss)"
   ]
  },
  {
   "cell_type": "markdown",
   "metadata": {},
   "source": [
    "### LSTM  "
   ]
  },
  {
   "cell_type": "markdown",
   "metadata": {},
   "source": [
    "A LSTM network is an artificial neural network that contains LSTM blocks instead of, or in addition to, regular network units. A LSTM block may be described as a \"smart\" network unit that can remember a value for an arbitrary length of time. \n",
    "\n",
    "Unlike traditional RNNs, an Long short-term memory network is well-suited to learn from experience to classify, process and predict time series when there are very long time lags of unknown size between important events."
   ]
  },
  {
   "cell_type": "markdown",
   "metadata": {
    "scrolled": true
   },
   "source": [
    "<img src =\"imgs/gru.png\" width=\"60%\">"
   ]
  },
  {
   "cell_type": "code",
   "execution_count": 8,
   "metadata": {},
   "outputs": [
    {
     "data": {
      "text/plain": [
       "<keras.layers.recurrent.LSTM at 0x7f3225d3c4e0>"
      ]
     },
     "execution_count": 8,
     "metadata": {},
     "output_type": "execute_result"
    }
   ],
   "source": [
    "keras.layers.recurrent.LSTM(output_dim, init='glorot_uniform', inner_init='orthogonal', \n",
    "                            forget_bias_init='one', activation='tanh', \n",
    "                            inner_activation='hard_sigmoid', \n",
    "                            W_regularizer=None, U_regularizer=None, b_regularizer=None, \n",
    "                            dropout_W=0.0, dropout_U=0.0)"
   ]
  },
  {
   "cell_type": "markdown",
   "metadata": {},
   "source": [
    "### GRU  "
   ]
  },
  {
   "cell_type": "markdown",
   "metadata": {},
   "source": [
    "Gated recurrent units are a gating mechanism in recurrent neural networks. \n",
    "\n",
    "Much similar to the LSTMs, they have fewer parameters than LSTM, as they lack an output gate."
   ]
  },
  {
   "cell_type": "code",
   "execution_count": 9,
   "metadata": {},
   "outputs": [
    {
     "data": {
      "text/plain": [
       "<keras.layers.recurrent.GRU at 0x7f3225d3c390>"
      ]
     },
     "execution_count": 9,
     "metadata": {},
     "output_type": "execute_result"
    }
   ],
   "source": [
    "keras.layers.recurrent.GRU(output_dim, init='glorot_uniform', inner_init='orthogonal', \n",
    "                           activation='tanh', inner_activation='hard_sigmoid', \n",
    "                           W_regularizer=None, U_regularizer=None, b_regularizer=None, \n",
    "                           dropout_W=0.0, dropout_U=0.0)"
   ]
  },
  {
   "cell_type": "markdown",
   "metadata": {},
   "source": [
    "### Your Turn! - Hands on Rnn"
   ]
  },
  {
   "cell_type": "code",
   "execution_count": 10,
   "metadata": {
    "scrolled": false
   },
   "outputs": [
    {
     "name": "stdout",
     "output_type": "stream",
     "text": [
      "Build model...\n",
      "Train...\n",
      "Train on 25000 samples, validate on 25000 samples\n",
      "Epoch 1/50\n",
      "25000/25000 [==============================] - 67s - loss: 0.6788 - acc: 0.5844 - val_loss: 0.6298 - val_acc: 0.6260\n",
      "Epoch 2/50\n",
      "25000/25000 [==============================] - 68s - loss: 0.5956 - acc: 0.6794 - val_loss: 0.6144 - val_acc: 0.6508\n",
      "Epoch 3/50\n",
      "25000/25000 [==============================] - 67s - loss: 0.4994 - acc: 0.7652 - val_loss: 0.6644 - val_acc: 0.5839\n",
      "Epoch 4/50\n",
      "25000/25000 [==============================] - 68s - loss: 0.5675 - acc: 0.7043 - val_loss: 0.5865 - val_acc: 0.7020\n",
      "Epoch 5/50\n",
      "25000/25000 [==============================] - 70s - loss: 0.4869 - acc: 0.7755 - val_loss: 0.5547 - val_acc: 0.7499\n",
      "Epoch 6/50\n",
      "25000/25000 [==============================] - 107s - loss: 0.5271 - acc: 0.7411 - val_loss: 0.6187 - val_acc: 0.6920\n",
      "Epoch 7/50\n",
      "25000/25000 [==============================] - 115s - loss: 0.4682 - acc: 0.7920 - val_loss: 0.5909 - val_acc: 0.7024\n",
      "Epoch 8/50\n",
      "25000/25000 [==============================] - 79s - loss: 0.4222 - acc: 0.8174 - val_loss: 0.5536 - val_acc: 0.7446\n",
      "Epoch 9/50\n",
      "25000/25000 [==============================] - 68s - loss: 0.3650 - acc: 0.8499 - val_loss: 0.5444 - val_acc: 0.7536\n",
      "Epoch 10/50\n",
      "25000/25000 [==============================] - 74s - loss: 0.3831 - acc: 0.8428 - val_loss: 0.6288 - val_acc: 0.6642\n",
      "Epoch 11/50\n",
      "25000/25000 [==============================] - 124s - loss: 0.3813 - acc: 0.8483 - val_loss: 0.5857 - val_acc: 0.7454\n",
      "Epoch 12/50\n",
      "25000/25000 [==============================] - 138s - loss: 0.3875 - acc: 0.8371 - val_loss: 0.6320 - val_acc: 0.7516\n",
      "Epoch 13/50\n",
      "25000/25000 [==============================] - 137s - loss: 0.3105 - acc: 0.8783 - val_loss: 0.5902 - val_acc: 0.7588\n",
      "Epoch 14/50\n",
      "25000/25000 [==============================] - 102s - loss: 0.3599 - acc: 0.8521 - val_loss: 0.6051 - val_acc: 0.7426\n",
      "Epoch 15/50\n",
      "25000/25000 [==============================] - 93s - loss: 0.3461 - acc: 0.8632 - val_loss: 0.6144 - val_acc: 0.7364\n",
      "Epoch 16/50\n",
      "25000/25000 [==============================] - 92s - loss: 0.3087 - acc: 0.8835 - val_loss: 0.6074 - val_acc: 0.7434\n",
      "Epoch 17/50\n",
      "25000/25000 [==============================] - 98s - loss: 0.3267 - acc: 0.8722 - val_loss: 0.6119 - val_acc: 0.7279\n",
      "Epoch 18/50\n",
      "25000/25000 [==============================] - 96s - loss: 0.3008 - acc: 0.8862 - val_loss: 0.6431 - val_acc: 0.7409\n",
      "Epoch 19/50\n",
      "25000/25000 [==============================] - 98s - loss: 0.3409 - acc: 0.8563 - val_loss: 0.6487 - val_acc: 0.6962\n",
      "Epoch 20/50\n",
      "25000/25000 [==============================] - 91s - loss: 0.4057 - acc: 0.8188 - val_loss: 0.6668 - val_acc: 0.7150\n",
      "Epoch 21/50\n",
      "25000/25000 [==============================] - 106s - loss: 0.3329 - acc: 0.8677 - val_loss: 0.6068 - val_acc: 0.7234\n",
      "Epoch 22/50\n",
      "25000/25000 [==============================] - 105s - loss: 0.2946 - acc: 0.8856 - val_loss: 0.6154 - val_acc: 0.7302\n",
      "Epoch 23/50\n",
      "25000/25000 [==============================] - 106s - loss: 0.2720 - acc: 0.8954 - val_loss: 0.6648 - val_acc: 0.7372\n",
      "Epoch 24/50\n",
      "25000/25000 [==============================] - 190s - loss: 0.4565 - acc: 0.7830 - val_loss: 0.6315 - val_acc: 0.6871\n",
      "Epoch 25/50\n",
      "25000/25000 [==============================] - 204s - loss: 0.3542 - acc: 0.8522 - val_loss: 0.6386 - val_acc: 0.7094\n",
      "Epoch 26/50\n",
      "25000/25000 [==============================] - 139s - loss: 0.2978 - acc: 0.8859 - val_loss: 0.6581 - val_acc: 0.7408\n",
      "Epoch 27/50\n",
      "25000/25000 [==============================] - 112s - loss: 0.2796 - acc: 0.8897 - val_loss: 0.6625 - val_acc: 0.7481\n",
      "Epoch 28/50\n",
      "25000/25000 [==============================] - 108s - loss: 0.2598 - acc: 0.8984 - val_loss: 0.6159 - val_acc: 0.7135\n",
      "Epoch 29/50\n",
      "25000/25000 [==============================] - 177s - loss: 0.3059 - acc: 0.8802 - val_loss: 0.6813 - val_acc: 0.7255\n",
      "Epoch 30/50\n",
      "25000/25000 [==============================] - 145s - loss: 0.2750 - acc: 0.8970 - val_loss: 0.6797 - val_acc: 0.7216\n",
      "Epoch 31/50\n",
      "25000/25000 [==============================] - 124s - loss: 0.2638 - acc: 0.8990 - val_loss: 0.6915 - val_acc: 0.7328\n",
      "Epoch 32/50\n",
      "25000/25000 [==============================] - 155s - loss: 0.2657 - acc: 0.9028 - val_loss: 0.6582 - val_acc: 0.7041\n",
      "Epoch 33/50\n",
      "25000/25000 [==============================] - 170s - loss: 0.2908 - acc: 0.8893 - val_loss: 0.7181 - val_acc: 0.7194\n",
      "Epoch 34/50\n",
      "25000/25000 [==============================] - 148s - loss: 0.2437 - acc: 0.9151 - val_loss: 0.7454 - val_acc: 0.7280\n",
      "Epoch 35/50\n",
      "25000/25000 [==============================] - 183s - loss: 0.2972 - acc: 0.8778 - val_loss: 0.7397 - val_acc: 0.7180\n",
      "Epoch 36/50\n",
      "25000/25000 [==============================] - 120s - loss: 0.2365 - acc: 0.9155 - val_loss: 0.8176 - val_acc: 0.7086\n",
      "Epoch 37/50\n",
      "25000/25000 [==============================] - 142s - loss: 0.2319 - acc: 0.9195 - val_loss: 0.7727 - val_acc: 0.7250\n",
      "Epoch 38/50\n",
      "25000/25000 [==============================] - 99s - loss: 0.2200 - acc: 0.9236 - val_loss: 0.7119 - val_acc: 0.7305\n",
      "Epoch 39/50\n",
      "25000/25000 [==============================] - 120s - loss: 0.2168 - acc: 0.9227 - val_loss: 0.7777 - val_acc: 0.7260\n",
      "Epoch 40/50\n",
      "25000/25000 [==============================] - 101s - loss: 0.2324 - acc: 0.9141 - val_loss: 0.7477 - val_acc: 0.7169\n",
      "Epoch 41/50\n",
      "25000/25000 [==============================] - 97s - loss: 0.2289 - acc: 0.9150 - val_loss: 0.7765 - val_acc: 0.7143\n",
      "Epoch 42/50\n",
      "25000/25000 [==============================] - 101s - loss: 0.2235 - acc: 0.9197 - val_loss: 0.7361 - val_acc: 0.7229\n",
      "Epoch 43/50\n",
      "25000/25000 [==============================] - 94s - loss: 0.2528 - acc: 0.9036 - val_loss: 0.7745 - val_acc: 0.7258\n",
      "Epoch 44/50\n",
      "25000/25000 [==============================] - 93s - loss: 0.1941 - acc: 0.9326 - val_loss: 0.8258 - val_acc: 0.6936\n",
      "Epoch 45/50\n",
      "25000/25000 [==============================] - 94s - loss: 0.2004 - acc: 0.9301 - val_loss: 0.8077 - val_acc: 0.7210\n",
      "Epoch 46/50\n",
      "25000/25000 [==============================] - 96s - loss: 0.2041 - acc: 0.9286 - val_loss: 0.6991 - val_acc: 0.7351\n",
      "Epoch 47/50\n",
      "25000/25000 [==============================] - 134s - loss: 0.3001 - acc: 0.8746 - val_loss: 0.7283 - val_acc: 0.7186\n",
      "Epoch 48/50\n",
      "25000/25000 [==============================] - 117s - loss: 0.2149 - acc: 0.9237 - val_loss: 0.7414 - val_acc: 0.7278\n",
      "Epoch 49/50\n",
      "25000/25000 [==============================] - 101s - loss: 0.2037 - acc: 0.9289 - val_loss: 0.7848 - val_acc: 0.7316\n",
      "Epoch 50/50\n",
      "25000/25000 [==============================] - 143s - loss: 0.2727 - acc: 0.8967 - val_loss: 0.7722 - val_acc: 0.7240\n",
      "25000/25000 [==============================] - 19s    \n",
      "\n",
      "Test accuracy: 0.772219604321\n",
      "Test loss: 0.72404\n"
     ]
    }
   ],
   "source": [
    "print('Build model...')\n",
    "model = Sequential()\n",
    "model.add(Embedding(max_features, 128, input_length=maxlen))\n",
    "\n",
    "# Play with those! try and get better results!\n",
    "model.add(SimpleRNN(128))  \n",
    "#model.add(GRU(128))  \n",
    "#model.add(LSTM(128))  \n",
    "\n",
    "model.add(Dropout(0.5))\n",
    "model.add(Dense(1))\n",
    "model.add(Activation('sigmoid'))\n",
    "\n",
    "# try using different optimizers and different optimizer configs\n",
    "model.compile(loss='binary_crossentropy', optimizer='adam' ,metrics=[\"accuracy\"])\n",
    "\n",
    "print(\"Train...\")\n",
    "model.fit(X_train, y_train, batch_size=batch_size, \n",
    "          nb_epoch=max_epoch, validation_data=(X_test, y_test))\n",
    "acc , loss = model.evaluate(X_test, y_test, batch_size=batch_size)\n",
    "print()\n",
    "print('Test accuracy:', acc)\n",
    "print('Test loss:', loss)"
   ]
  },
  {
   "cell_type": "code",
   "execution_count": 11,
   "metadata": {},
   "outputs": [
    {
     "name": "stdout",
     "output_type": "stream",
     "text": [
      "Build model...\n",
      "Train...\n",
      "Train on 25000 samples, validate on 25000 samples\n",
      "Epoch 1/50\n",
      "25000/25000 [==============================] - 202s - loss: 0.4200 - acc: 0.8056 - val_loss: 0.3351 - val_acc: 0.8532\n",
      "Epoch 2/50\n",
      "25000/25000 [==============================] - 201s - loss: 0.2216 - acc: 0.9145 - val_loss: 0.3506 - val_acc: 0.8560\n",
      "Epoch 3/50\n",
      "25000/25000 [==============================] - 199s - loss: 0.1111 - acc: 0.9619 - val_loss: 0.3902 - val_acc: 0.8461\n",
      "Epoch 4/50\n",
      "25000/25000 [==============================] - 198s - loss: 0.0564 - acc: 0.9810 - val_loss: 0.5727 - val_acc: 0.8374\n",
      "Epoch 5/50\n",
      "25000/25000 [==============================] - 199s - loss: 0.0307 - acc: 0.9902 - val_loss: 0.7406 - val_acc: 0.8356\n",
      "Epoch 6/50\n",
      "25000/25000 [==============================] - 196s - loss: 0.0203 - acc: 0.9940 - val_loss: 0.7308 - val_acc: 0.8356\n",
      "Epoch 7/50\n",
      "25000/25000 [==============================] - 197s - loss: 0.0105 - acc: 0.9967 - val_loss: 0.9419 - val_acc: 0.8248\n",
      "Epoch 8/50\n",
      "25000/25000 [==============================] - 196s - loss: 0.0153 - acc: 0.9950 - val_loss: 0.9059 - val_acc: 0.8288\n",
      "Epoch 9/50\n",
      "25000/25000 [==============================] - 196s - loss: 0.0108 - acc: 0.9966 - val_loss: 1.0052 - val_acc: 0.8353\n",
      "Epoch 10/50\n",
      "25000/25000 [==============================] - 195s - loss: 0.0089 - acc: 0.9973 - val_loss: 1.0071 - val_acc: 0.8308\n",
      "Epoch 11/50\n",
      "25000/25000 [==============================] - 194s - loss: 0.0087 - acc: 0.9974 - val_loss: 1.0322 - val_acc: 0.8247\n",
      "Epoch 12/50\n",
      "25000/25000 [==============================] - 192s - loss: 0.0081 - acc: 0.9976 - val_loss: 1.2198 - val_acc: 0.8268\n",
      "Epoch 13/50\n",
      "25000/25000 [==============================] - 196s - loss: 0.0032 - acc: 0.9988 - val_loss: 1.0585 - val_acc: 0.8260\n",
      "Epoch 14/50\n",
      "25000/25000 [==============================] - 195s - loss: 0.0026 - acc: 0.9992 - val_loss: 1.2707 - val_acc: 0.8220\n",
      "Epoch 15/50\n",
      "25000/25000 [==============================] - 194s - loss: 0.0043 - acc: 0.9988 - val_loss: 1.0945 - val_acc: 0.8220\n",
      "Epoch 16/50\n",
      "25000/25000 [==============================] - 196s - loss: 0.0035 - acc: 0.9989 - val_loss: 1.3287 - val_acc: 0.8135\n",
      "Epoch 17/50\n",
      "25000/25000 [==============================] - 195s - loss: 0.0028 - acc: 0.9991 - val_loss: 1.3664 - val_acc: 0.8228\n",
      "Epoch 18/50\n",
      "25000/25000 [==============================] - 194s - loss: 0.0045 - acc: 0.9985 - val_loss: 1.3372 - val_acc: 0.8214\n",
      "Epoch 19/50\n",
      "25000/25000 [==============================] - 193s - loss: 0.0020 - acc: 0.9993 - val_loss: 1.3302 - val_acc: 0.8138\n",
      "Epoch 20/50\n",
      "25000/25000 [==============================] - 196s - loss: 0.0020 - acc: 0.9995 - val_loss: 1.2941 - val_acc: 0.8238\n",
      "Epoch 21/50\n",
      "25000/25000 [==============================] - 197s - loss: 0.0019 - acc: 0.9994 - val_loss: 1.2312 - val_acc: 0.8194\n",
      "Epoch 22/50\n",
      "25000/25000 [==============================] - 203s - loss: 0.0027 - acc: 0.9992 - val_loss: 1.2585 - val_acc: 0.8200\n",
      "Epoch 23/50\n",
      "25000/25000 [==============================] - 194s - loss: 0.0025 - acc: 0.9993 - val_loss: 1.3136 - val_acc: 0.8189\n",
      "Epoch 24/50\n",
      "25000/25000 [==============================] - 197s - loss: 0.0017 - acc: 0.9994 - val_loss: 1.4384 - val_acc: 0.8226\n",
      "Epoch 25/50\n",
      "25000/25000 [==============================] - 198s - loss: 5.6846e-04 - acc: 0.9998 - val_loss: 1.4378 - val_acc: 0.8185\n",
      "Epoch 26/50\n",
      "25000/25000 [==============================] - 194s - loss: 0.0018 - acc: 0.9994 - val_loss: 1.4021 - val_acc: 0.8178\n",
      "Epoch 27/50\n",
      "25000/25000 [==============================] - 203s - loss: 0.0035 - acc: 0.9988 - val_loss: 1.3490 - val_acc: 0.8216\n",
      "Epoch 28/50\n",
      "25000/25000 [==============================] - 198s - loss: 0.0016 - acc: 0.9995 - val_loss: 1.4781 - val_acc: 0.8025\n",
      "Epoch 29/50\n",
      "25000/25000 [==============================] - 198s - loss: 0.0014 - acc: 0.9996 - val_loss: 1.4246 - val_acc: 0.8146\n",
      "Epoch 30/50\n",
      "25000/25000 [==============================] - 195s - loss: 6.5104e-04 - acc: 0.9999 - val_loss: 1.5755 - val_acc: 0.8127\n",
      "Epoch 31/50\n",
      "25000/25000 [==============================] - 192s - loss: 5.2575e-05 - acc: 1.0000 - val_loss: 1.6350 - val_acc: 0.8167\n",
      "Epoch 32/50\n",
      "25000/25000 [==============================] - 197s - loss: 7.9642e-06 - acc: 1.0000 - val_loss: 1.6819 - val_acc: 0.8174\n",
      "Epoch 33/50\n",
      "25000/25000 [==============================] - 198s - loss: 3.2609e-06 - acc: 1.0000 - val_loss: 1.7096 - val_acc: 0.8177\n",
      "Epoch 34/50\n",
      "25000/25000 [==============================] - 203s - loss: 2.3661e-06 - acc: 1.0000 - val_loss: 1.7358 - val_acc: 0.8173\n",
      "Epoch 35/50\n",
      "25000/25000 [==============================] - 202s - loss: 2.7423e-06 - acc: 1.0000 - val_loss: 1.7767 - val_acc: 0.8175\n",
      "Epoch 36/50\n",
      "25000/25000 [==============================] - 198s - loss: 1.9052e-06 - acc: 1.0000 - val_loss: 1.7949 - val_acc: 0.8174\n",
      "Epoch 37/50\n",
      "25000/25000 [==============================] - 198s - loss: 8.0623e-07 - acc: 1.0000 - val_loss: 1.8288 - val_acc: 0.8174\n",
      "Epoch 38/50\n",
      "25000/25000 [==============================] - 196s - loss: 5.1023e-07 - acc: 1.0000 - val_loss: 1.8595 - val_acc: 0.8174\n",
      "Epoch 39/50\n",
      "25000/25000 [==============================] - 197s - loss: 4.8288e-07 - acc: 1.0000 - val_loss: 1.8946 - val_acc: 0.8179\n",
      "Epoch 40/50\n",
      "25000/25000 [==============================] - 202s - loss: 3.5077e-07 - acc: 1.0000 - val_loss: 1.9308 - val_acc: 0.8176\n",
      "Epoch 41/50\n",
      "25000/25000 [==============================] - 199s - loss: 3.7205e-07 - acc: 1.0000 - val_loss: 1.9538 - val_acc: 0.8181\n",
      "Epoch 42/50\n",
      "25000/25000 [==============================] - 200s - loss: 2.3771e-07 - acc: 1.0000 - val_loss: 1.9812 - val_acc: 0.8181\n",
      "Epoch 43/50\n",
      "25000/25000 [==============================] - 200s - loss: 1.8995e-07 - acc: 1.0000 - val_loss: 2.0110 - val_acc: 0.8175\n",
      "Epoch 44/50\n",
      "25000/25000 [==============================] - 202s - loss: 1.7064e-07 - acc: 1.0000 - val_loss: 2.0453 - val_acc: 0.8172\n",
      "Epoch 45/50\n",
      "25000/25000 [==============================] - 211s - loss: 1.3803e-07 - acc: 1.0000 - val_loss: 2.0805 - val_acc: 0.8164\n",
      "Epoch 46/50\n",
      "25000/25000 [==============================] - 199s - loss: 1.3062e-07 - acc: 1.0000 - val_loss: 2.1193 - val_acc: 0.8158\n",
      "Epoch 47/50\n",
      "25000/25000 [==============================] - 200s - loss: 1.2990e-07 - acc: 1.0000 - val_loss: 2.1594 - val_acc: 0.8148\n",
      "Epoch 48/50\n",
      "25000/25000 [==============================] - 208s - loss: 1.3413e-07 - acc: 1.0000 - val_loss: 2.1857 - val_acc: 0.8156\n",
      "Epoch 49/50\n",
      "25000/25000 [==============================] - 201s - loss: 1.1475e-07 - acc: 1.0000 - val_loss: 2.2129 - val_acc: 0.8148\n",
      "Epoch 50/50\n",
      "25000/25000 [==============================] - 205s - loss: 1.1404e-07 - acc: 1.0000 - val_loss: 2.2430 - val_acc: 0.8145\n",
      "25000/25000 [==============================] - 44s    \n",
      "\n",
      "Test accuracy: 2.243032588\n",
      "Test loss: 0.81452\n"
     ]
    }
   ],
   "source": [
    "print('Build model...')\n",
    "model = Sequential()\n",
    "model.add(Embedding(max_features, 128, input_length=maxlen))\n",
    "\n",
    "# Play with those! try and get better results!\n",
    "# model.add(SimpleRNN(128))  \n",
    "model.add(GRU(128))  \n",
    "# model.add(LSTM(128))  \n",
    "\n",
    "model.add(Dropout(0.5))\n",
    "model.add(Dense(1))\n",
    "model.add(Activation('sigmoid'))\n",
    "\n",
    "# try using different optimizers and different optimizer configs\n",
    "model.compile(loss='binary_crossentropy', optimizer='adam' ,metrics=[\"accuracy\"])\n",
    "\n",
    "print(\"Train...\")\n",
    "model.fit(X_train, y_train, batch_size=batch_size, \n",
    "          nb_epoch=max_epoch, validation_data=(X_test, y_test))\n",
    "acc , loss = model.evaluate(X_test, y_test, batch_size=batch_size)\n",
    "print()\n",
    "print('Test accuracy:', acc)\n",
    "print('Test loss:', loss)"
   ]
  },
  {
   "cell_type": "code",
   "execution_count": 12,
   "metadata": {},
   "outputs": [
    {
     "name": "stdout",
     "output_type": "stream",
     "text": [
      "Build model...\n",
      "Train...\n",
      "Train on 25000 samples, validate on 25000 samples\n",
      "Epoch 1/50\n",
      "25000/25000 [==============================] - 227s - loss: 0.4267 - acc: 0.8055 - val_loss: 0.3564 - val_acc: 0.8474\n",
      "Epoch 2/50\n",
      "25000/25000 [==============================] - 223s - loss: 0.2367 - acc: 0.9107 - val_loss: 0.4825 - val_acc: 0.8349\n",
      "Epoch 3/50\n",
      "25000/25000 [==============================] - 219s - loss: 0.1385 - acc: 0.9496 - val_loss: 0.4615 - val_acc: 0.8372\n",
      "Epoch 4/50\n",
      "25000/25000 [==============================] - 220s - loss: 0.0794 - acc: 0.9730 - val_loss: 0.5870 - val_acc: 0.8321\n",
      "Epoch 5/50\n",
      "25000/25000 [==============================] - 223s - loss: 0.0543 - acc: 0.9832 - val_loss: 0.6056 - val_acc: 0.8249\n",
      "Epoch 6/50\n",
      "25000/25000 [==============================] - 219s - loss: 0.0347 - acc: 0.9885 - val_loss: 0.7454 - val_acc: 0.8268\n",
      "Epoch 7/50\n",
      "25000/25000 [==============================] - 228s - loss: 0.0304 - acc: 0.9904 - val_loss: 0.7272 - val_acc: 0.8207\n",
      "Epoch 8/50\n",
      "25000/25000 [==============================] - 216s - loss: 0.0215 - acc: 0.9930 - val_loss: 0.9142 - val_acc: 0.8207\n",
      "Epoch 9/50\n",
      "25000/25000 [==============================] - 224s - loss: 0.0164 - acc: 0.9950 - val_loss: 1.0291 - val_acc: 0.8271\n",
      "Epoch 10/50\n",
      "25000/25000 [==============================] - 233s - loss: 0.0132 - acc: 0.9964 - val_loss: 0.8596 - val_acc: 0.8159\n",
      "Epoch 11/50\n",
      "25000/25000 [==============================] - 233s - loss: 0.0204 - acc: 0.9934 - val_loss: 0.8941 - val_acc: 0.8195\n",
      "Epoch 12/50\n",
      "25000/25000 [==============================] - 241s - loss: 0.0149 - acc: 0.9952 - val_loss: 0.9581 - val_acc: 0.8258\n",
      "Epoch 13/50\n",
      "25000/25000 [==============================] - 244s - loss: 0.0140 - acc: 0.9955 - val_loss: 0.9299 - val_acc: 0.8196\n",
      "Epoch 14/50\n",
      "25000/25000 [==============================] - 242s - loss: 0.0077 - acc: 0.9981 - val_loss: 0.9260 - val_acc: 0.8197\n",
      "Epoch 15/50\n",
      "25000/25000 [==============================] - 224s - loss: 0.0053 - acc: 0.9985 - val_loss: 1.0365 - val_acc: 0.8234\n",
      "Epoch 16/50\n",
      "25000/25000 [==============================] - 242s - loss: 0.0094 - acc: 0.9975 - val_loss: 1.0557 - val_acc: 0.8200\n",
      "Epoch 17/50\n",
      "25000/25000 [==============================] - 234s - loss: 0.0071 - acc: 0.9979 - val_loss: 1.0863 - val_acc: 0.8170\n",
      "Epoch 18/50\n",
      "25000/25000 [==============================] - 230s - loss: 0.0050 - acc: 0.9984 - val_loss: 1.0373 - val_acc: 0.8183\n",
      "Epoch 19/50\n",
      "25000/25000 [==============================] - 238s - loss: 0.0052 - acc: 0.9987 - val_loss: 1.0556 - val_acc: 0.8173\n",
      "Epoch 20/50\n",
      "25000/25000 [==============================] - 235s - loss: 0.0054 - acc: 0.9984 - val_loss: 1.1508 - val_acc: 0.8138\n",
      "Epoch 21/50\n",
      "25000/25000 [==============================] - 225s - loss: 0.0061 - acc: 0.9982 - val_loss: 1.1770 - val_acc: 0.8194\n",
      "Epoch 22/50\n",
      "25000/25000 [==============================] - 240s - loss: 0.0015 - acc: 0.9996 - val_loss: 1.3778 - val_acc: 0.8194\n",
      "Epoch 23/50\n",
      "25000/25000 [==============================] - 225s - loss: 0.0044 - acc: 0.9987 - val_loss: 1.1489 - val_acc: 0.8174\n",
      "Epoch 24/50\n",
      "25000/25000 [==============================] - 232s - loss: 0.0052 - acc: 0.9985 - val_loss: 1.1067 - val_acc: 0.8030\n",
      "Epoch 25/50\n",
      "25000/25000 [==============================] - 240s - loss: 0.0054 - acc: 0.9986 - val_loss: 1.3244 - val_acc: 0.8142\n",
      "Epoch 26/50\n",
      "25000/25000 [==============================] - 251s - loss: 0.0022 - acc: 0.9994 - val_loss: 1.1171 - val_acc: 0.8150\n",
      "Epoch 27/50\n",
      "25000/25000 [==============================] - 247s - loss: 0.0029 - acc: 0.9994 - val_loss: 1.3960 - val_acc: 0.8169\n",
      "Epoch 28/50\n",
      "25000/25000 [==============================] - 237s - loss: 0.0033 - acc: 0.9991 - val_loss: 1.2104 - val_acc: 0.8179\n",
      "Epoch 29/50\n",
      "25000/25000 [==============================] - 239s - loss: 0.0053 - acc: 0.9985 - val_loss: 1.2165 - val_acc: 0.8211\n",
      "Epoch 30/50\n",
      "25000/25000 [==============================] - 235s - loss: 0.0023 - acc: 0.9993 - val_loss: 1.2841 - val_acc: 0.8098\n",
      "Epoch 31/50\n",
      "25000/25000 [==============================] - 245s - loss: 0.0028 - acc: 0.9991 - val_loss: 1.2925 - val_acc: 0.8153\n",
      "Epoch 32/50\n",
      "25000/25000 [==============================] - 248s - loss: 7.8254e-04 - acc: 0.9999 - val_loss: 1.2259 - val_acc: 0.8044\n",
      "Epoch 33/50\n",
      "25000/25000 [==============================] - 240s - loss: 3.6844e-04 - acc: 0.9999 - val_loss: 1.3535 - val_acc: 0.8194\n",
      "Epoch 34/50\n",
      "25000/25000 [==============================] - 233s - loss: 0.0012 - acc: 0.9996 - val_loss: 1.2077 - val_acc: 0.8111\n",
      "Epoch 35/50\n",
      "25000/25000 [==============================] - 237s - loss: 0.0036 - acc: 0.9993 - val_loss: 1.2977 - val_acc: 0.8158\n",
      "Epoch 36/50\n",
      "25000/25000 [==============================] - 239s - loss: 0.0031 - acc: 0.9992 - val_loss: 1.1777 - val_acc: 0.8176\n",
      "Epoch 37/50\n",
      "25000/25000 [==============================] - 245s - loss: 5.1885e-04 - acc: 0.9999 - val_loss: 1.3861 - val_acc: 0.8196\n",
      "Epoch 38/50\n",
      "25000/25000 [==============================] - 230s - loss: 5.5781e-05 - acc: 1.0000 - val_loss: 1.4372 - val_acc: 0.8195\n",
      "Epoch 39/50\n",
      "25000/25000 [==============================] - 253s - loss: 2.2174e-05 - acc: 1.0000 - val_loss: 1.5212 - val_acc: 0.8187\n",
      "Epoch 40/50\n",
      "25000/25000 [==============================] - 253s - loss: 1.3240e-05 - acc: 1.0000 - val_loss: 1.6196 - val_acc: 0.8193\n",
      "Epoch 41/50\n",
      "25000/25000 [==============================] - 250s - loss: 7.1781e-06 - acc: 1.0000 - val_loss: 1.6611 - val_acc: 0.8198\n",
      "Epoch 42/50\n",
      "25000/25000 [==============================] - 240s - loss: 5.4897e-06 - acc: 1.0000 - val_loss: 1.7402 - val_acc: 0.8192\n",
      "Epoch 43/50\n",
      "25000/25000 [==============================] - 223s - loss: 4.1823e-06 - acc: 1.0000 - val_loss: 1.7580 - val_acc: 0.8175\n",
      "Epoch 44/50\n",
      "25000/25000 [==============================] - 229s - loss: 1.8505e-06 - acc: 1.0000 - val_loss: 1.8141 - val_acc: 0.8169\n",
      "Epoch 45/50\n",
      "25000/25000 [==============================] - 226s - loss: 1.7224e-06 - acc: 1.0000 - val_loss: 1.8767 - val_acc: 0.8170\n",
      "Epoch 46/50\n",
      "25000/25000 [==============================] - 223s - loss: 1.2049e-06 - acc: 1.0000 - val_loss: 1.9360 - val_acc: 0.8163\n",
      "Epoch 47/50\n",
      "25000/25000 [==============================] - 224s - loss: 6.6179e-07 - acc: 1.0000 - val_loss: 1.9679 - val_acc: 0.8160\n",
      "Epoch 48/50\n",
      "25000/25000 [==============================] - 223s - loss: 9.3397e-07 - acc: 1.0000 - val_loss: 1.9382 - val_acc: 0.8162\n",
      "Epoch 49/50\n",
      "25000/25000 [==============================] - 220s - loss: 4.3322e-07 - acc: 1.0000 - val_loss: 2.0655 - val_acc: 0.8170\n",
      "Epoch 50/50\n",
      "25000/25000 [==============================] - 226s - loss: 3.5847e-07 - acc: 1.0000 - val_loss: 2.0722 - val_acc: 0.8164\n",
      "25000/25000 [==============================] - 50s    \n",
      "\n",
      "Test accuracy: 2.07217236311\n",
      "Test loss: 0.81636\n"
     ]
    }
   ],
   "source": [
    "print('Build model...')\n",
    "model = Sequential()\n",
    "model.add(Embedding(max_features, 128, input_length=maxlen))\n",
    "\n",
    "# Play with those! try and get better results!\n",
    "# model.add(SimpleRNN(128))  \n",
    "# model.add(GRU(128))  \n",
    "model.add(LSTM(128))  \n",
    "\n",
    "model.add(Dropout(0.5))\n",
    "model.add(Dense(1))\n",
    "model.add(Activation('sigmoid'))\n",
    "\n",
    "# try using different optimizers and different optimizer configs\n",
    "model.compile(loss='binary_crossentropy', optimizer='adam' ,metrics=[\"accuracy\"])\n",
    "\n",
    "print(\"Train...\")\n",
    "model.fit(X_train, y_train, batch_size=batch_size, \n",
    "          nb_epoch=max_epoch, validation_data=(X_test, y_test))\n",
    "acc , loss = model.evaluate(X_test, y_test, batch_size=batch_size)\n",
    "print()\n",
    "print('Test accuracy:', acc)\n",
    "print('Test loss:', loss)"
   ]
  },
  {
   "cell_type": "code",
   "execution_count": null,
   "metadata": {
    "collapsed": true
   },
   "outputs": [],
   "source": []
  }
 ],
 "metadata": {
  "kernelspec": {
   "display_name": "Python 3",
   "language": "python",
   "name": "python3"
  },
  "language_info": {
   "codemirror_mode": {
    "name": "ipython",
    "version": 3
   },
   "file_extension": ".py",
   "mimetype": "text/x-python",
   "name": "python",
   "nbconvert_exporter": "python",
   "pygments_lexer": "ipython3",
   "version": "3.6.3"
  }
 },
 "nbformat": 4,
 "nbformat_minor": 1
}
